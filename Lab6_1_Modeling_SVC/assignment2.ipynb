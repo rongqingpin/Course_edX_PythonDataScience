{
 "cells": [
  {
   "cell_type": "markdown",
   "metadata": {},
   "source": [
    "#### SVC on [hand-written digits](https://archive.ics.uci.edu/ml/datasets/Optical+Recognition+of+Handwritten+Digits)\n",
    "* compare different kernels"
   ]
  },
  {
   "cell_type": "code",
   "execution_count": 1,
   "metadata": {
    "collapsed": true
   },
   "outputs": [],
   "source": [
    "import pandas as pd\n",
    "from sklearn.svm import SVC\n",
    "import matplotlib.pyplot as plt\n",
    "import numpy as np"
   ]
  },
  {
   "cell_type": "code",
   "execution_count": 2,
   "metadata": {},
   "outputs": [],
   "source": [
    "# load the data\n",
    "flc = '/Users/pinqingkan/Desktop/DataScience/PythonDataScience/DAT210x-master/Module6/Datasets/'\n",
    "fname = flc + 'optdigits.tra'\n",
    "train0 = pd.read_csv(fname, header = None)\n",
    "fname = flc + 'optdigits.tes'\n",
    "test0 = pd.read_csv(fname, header = None)"
   ]
  },
  {
   "cell_type": "code",
   "execution_count": 3,
   "metadata": {},
   "outputs": [],
   "source": [
    "# separate into data & labels\n",
    "Nfeature = train0.shape[1]\n",
    "X_train = train0.iloc[:, :Nfeature-1]\n",
    "Y_train = train0.iloc[:, Nfeature-1:].values.ravel()\n",
    "X_test = test0.iloc[:, :Nfeature-1]\n",
    "Y_test = test0.iloc[:, Nfeature-1:].values.ravel()"
   ]
  },
  {
   "cell_type": "code",
   "execution_count": 4,
   "metadata": {},
   "outputs": [],
   "source": [
    "# reduce the training set to test the effect: every 100, keep the first 4\n",
    "Nsample = X_train.shape[0]\n",
    "Nblock = Nsample // 100\n",
    "Nblock = Nblock+1 if Nsample%100 > 0 else Nblock\n",
    "for iblock in range(Nblock):\n",
    "    i1 = iblock*100\n",
    "    i2 = i1+4\n",
    "    train2 = X_train.iloc[i1:i2,:]\n",
    "    label2 = Y_train[i1:i2]\n",
    "    if iblock == 0:\n",
    "        X_train2, Y_train2 = train2, label2\n",
    "    else:\n",
    "        X_train2 = pd.concat([X_train2, train2], axis = 0)\n",
    "        Y_train2 = np.r_[Y_train2, label2]"
   ]
  },
  {
   "cell_type": "code",
   "execution_count": 5,
   "metadata": {},
   "outputs": [
    {
     "data": {
      "image/png": "[encoded data removed]",
      "text/plain": [
       "<matplotlib.figure.Figure at 0x117ab1e80>"
      ]
     },
     "metadata": {},
     "output_type": "display_data"
    }
   ],
   "source": [
    "# show some plots as example\n",
    "plt.figure()\n",
    "cnt = 0\n",
    "for col in range(5):\n",
    "    for row in range(5):\n",
    "        plt.subplot(5,5,cnt+1)\n",
    "        plt.imshow(X_train.iloc[cnt,:].values.reshape(8,8), cmap=plt.cm.gray_r)\n",
    "        plt.axis('off')\n",
    "        cnt += 1\n",
    "plt.show()"
   ]
  },
  {
   "cell_type": "code",
   "execution_count": 6,
   "metadata": {
    "scrolled": true
   },
   "outputs": [
    {
     "name": "stdout",
     "output_type": "stream",
     "text": [
      "score:  0.982749026155\n",
      "score:  0.982749026155\n",
      "score:  0.982749026155\n"
     ]
    }
   ],
   "source": [
    "# SVC classifier: compare different kernel\n",
    "for icase in range(3):\n",
    "    if icase == 0: fkernel = 'linear'\n",
    "    elif icase == 1: fkernel = 'poly'\n",
    "    else: fkernel = 'rbf'\n",
    "    \n",
    "    svc = SVC(C = 1.0, gamma = 1e-3, kernel = 'rbf', cache_size = 200)\n",
    "    svc.fit(X_train, Y_train)\n",
    "    #svc.fit(X_train2, Y_train2)\n",
    "    print('score: ', svc.score(X_test, Y_test))"
   ]
  },
  {
   "cell_type": "code",
   "execution_count": 7,
   "metadata": {
    "collapsed": true
   },
   "outputs": [],
   "source": [
    "# prediction with SVC (rbf)\n",
    "svc = SVC(C = 1.0, gamma = 1e-3, kernel = 'rbf', cache_size = 200)\n",
    "svc.fit(X_train, Y_train)\n",
    "Y_test2 = svc.predict(X_test)"
   ]
  },
  {
   "cell_type": "code",
   "execution_count": 8,
   "metadata": {},
   "outputs": [
    {
     "data": {
      "image/png": "[encoded data removed]",
      "text/plain": [
       "<matplotlib.figure.Figure at 0x11c437dd8>"
      ]
     },
     "metadata": {},
     "output_type": "display_data"
    }
   ],
   "source": [
    "# visualize the prediction results\n",
    "plt.figure()\n",
    "cnt = 0\n",
    "istart = 0\n",
    "for col in range(10):\n",
    "    for row in range(5):\n",
    "        cnt += 1\n",
    "        idc = cnt + istart\n",
    "        plt.subplot(5,10,cnt)\n",
    "        plt.imshow(X_test.iloc[idc,:].values.reshape(8,8), cmap=plt.cm.gray_r)\n",
    "        plt.axis('off')\n",
    "        \n",
    "        color2 = 'g' if Y_test2[idc] == Y_test[idc] else 'r'\n",
    "        fttl = str(Y_test[idc]) + ': ' + str(Y_test2[idc])\n",
    "        plt.title(fttl, color = color2)\n",
    "plt.show()"
   ]
  },
  {
   "cell_type": "code",
   "execution_count": null,
   "metadata": {
    "collapsed": true
   },
   "outputs": [],
   "source": []
  }
 ],
 "metadata": {
  "kernelspec": {
   "display_name": "Python 3",
   "language": "python",
   "name": "python3"
  },
  "language_info": {
   "codemirror_mode": {
    "name": "ipython",
    "version": 3
   },
   "file_extension": ".py",
   "mimetype": "text/x-python",
   "name": "python",
   "nbconvert_exporter": "python",
   "pygments_lexer": "ipython3",
   "version": "3.6.1"
  }
 },
 "nbformat": 4,
 "nbformat_minor": 2
}
