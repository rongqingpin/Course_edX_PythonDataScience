{
 "cells": [
  {
   "cell_type": "markdown",
   "metadata": {},
   "source": [
    "#### K-Nearest Neighbors on wheat dataset\n",
    "* classify the wheat types"
   ]
  },
  {
   "cell_type": "code",
   "execution_count": 1,
   "metadata": {
    "collapsed": true
   },
   "outputs": [],
   "source": [
    "import pandas as pd\n",
    "from sklearn.model_selection import train_test_split\n",
    "import sklearn.preprocessing as prep\n",
    "from sklearn.decomposition import PCA\n",
    "from sklearn.neighbors import KNeighborsClassifier\n",
    "import numpy as np\n",
    "import matplotlib.pyplot as plt"
   ]
  },
  {
   "cell_type": "code",
   "execution_count": 2,
   "metadata": {
    "collapsed": true
   },
   "outputs": [],
   "source": [
    "# load the data\n",
    "flc = '/Users/pinqingkan/Desktop/DataScience/PythonDataScience/DAT210x-master/Module5/Datasets/'\n",
    "fname = flc + 'wheat.data'\n",
    "X = pd.read_csv(fname, index_col = 0)"
   ]
  },
  {
   "cell_type": "code",
   "execution_count": 3,
   "metadata": {},
   "outputs": [
    {
     "data": {
      "text/html": [
       "<div>\n",
       "<style>\n",
       "    .dataframe thead tr:only-child th {\n",
       "        text-align: right;\n",
       "    }\n",
       "\n",
       "    .dataframe thead th {\n",
       "        text-align: left;\n",
       "    }\n",
       "\n",
       "    .dataframe tbody tr th {\n",
       "        vertical-align: top;\n",
       "    }\n",
       "</style>\n",
       "<table border=\"1\" class=\"dataframe\">\n",
       "  <thead>\n",
       "    <tr style=\"text-align: right;\">\n",
       "      <th></th>\n",
       "      <th>area</th>\n",
       "      <th>perimeter</th>\n",
       "      <th>compactness</th>\n",
       "      <th>length</th>\n",
       "      <th>width</th>\n",
       "      <th>asymmetry</th>\n",
       "      <th>groove</th>\n",
       "      <th>wheat_type</th>\n",
       "    </tr>\n",
       "    <tr>\n",
       "      <th>id</th>\n",
       "      <th></th>\n",
       "      <th></th>\n",
       "      <th></th>\n",
       "      <th></th>\n",
       "      <th></th>\n",
       "      <th></th>\n",
       "      <th></th>\n",
       "      <th></th>\n",
       "    </tr>\n",
       "  </thead>\n",
       "  <tbody>\n",
       "    <tr>\n",
       "      <th>0</th>\n",
       "      <td>15.26</td>\n",
       "      <td>14.84</td>\n",
       "      <td>0.8710</td>\n",
       "      <td>5.763</td>\n",
       "      <td>3.312</td>\n",
       "      <td>2.221</td>\n",
       "      <td>5.220</td>\n",
       "      <td>kama</td>\n",
       "    </tr>\n",
       "    <tr>\n",
       "      <th>1</th>\n",
       "      <td>14.88</td>\n",
       "      <td>14.57</td>\n",
       "      <td>0.8811</td>\n",
       "      <td>5.554</td>\n",
       "      <td>3.333</td>\n",
       "      <td>1.018</td>\n",
       "      <td>4.956</td>\n",
       "      <td>kama</td>\n",
       "    </tr>\n",
       "    <tr>\n",
       "      <th>2</th>\n",
       "      <td>14.29</td>\n",
       "      <td>14.09</td>\n",
       "      <td>0.9050</td>\n",
       "      <td>5.291</td>\n",
       "      <td>3.337</td>\n",
       "      <td>2.699</td>\n",
       "      <td>4.825</td>\n",
       "      <td>kama</td>\n",
       "    </tr>\n",
       "    <tr>\n",
       "      <th>3</th>\n",
       "      <td>13.84</td>\n",
       "      <td>13.94</td>\n",
       "      <td>0.8955</td>\n",
       "      <td>5.324</td>\n",
       "      <td>3.379</td>\n",
       "      <td>2.259</td>\n",
       "      <td>4.805</td>\n",
       "      <td>kama</td>\n",
       "    </tr>\n",
       "    <tr>\n",
       "      <th>4</th>\n",
       "      <td>16.14</td>\n",
       "      <td>14.99</td>\n",
       "      <td>0.9034</td>\n",
       "      <td>5.658</td>\n",
       "      <td>3.562</td>\n",
       "      <td>1.355</td>\n",
       "      <td>5.175</td>\n",
       "      <td>kama</td>\n",
       "    </tr>\n",
       "  </tbody>\n",
       "</table>\n",
       "</div>"
      ],
      "text/plain": [
       "     area  perimeter  compactness  length  width  asymmetry  groove wheat_type\n",
       "id                                                                            \n",
       "0   15.26      14.84       0.8710   5.763  3.312      2.221   5.220       kama\n",
       "1   14.88      14.57       0.8811   5.554  3.333      1.018   4.956       kama\n",
       "2   14.29      14.09       0.9050   5.291  3.337      2.699   4.825       kama\n",
       "3   13.84      13.94       0.8955   5.324  3.379      2.259   4.805       kama\n",
       "4   16.14      14.99       0.9034   5.658  3.562      1.355   5.175       kama"
      ]
     },
     "execution_count": 3,
     "metadata": {},
     "output_type": "execute_result"
    }
   ],
   "source": [
    "X.head()"
   ]
  },
  {
   "cell_type": "code",
   "execution_count": 4,
   "metadata": {
    "collapsed": true
   },
   "outputs": [],
   "source": [
    "# separate into labels and data & convert labels into numbers\n",
    "y = X.wheat_type.as_matrix()\n",
    "y2 = X.wheat_type.astype(\"category\").cat.codes # for plotting purpose\n",
    "X = X.drop(labels = 'wheat_type', axis = 1)"
   ]
  },
  {
   "cell_type": "code",
   "execution_count": 5,
   "metadata": {
    "scrolled": true
   },
   "outputs": [],
   "source": [
    "# fillup NaNs with mean values (of each feature)\n",
    "X = X.fillna(X.mean(axis = 0))"
   ]
  },
  {
   "cell_type": "code",
   "execution_count": 6,
   "metadata": {
    "collapsed": true
   },
   "outputs": [],
   "source": [
    "# split the datasets into training & testing data\n",
    "# random_state = 1 to ensure repeatable results; skiped in real cases\n",
    "X_train, X_test, y_train, y_test = train_test_split(X, y2, test_size = 0.33, random_state = 1)"
   ]
  },
  {
   "cell_type": "code",
   "execution_count": 7,
   "metadata": {
    "collapsed": true
   },
   "outputs": [],
   "source": [
    "# train the normalizer using the training data & normalize\n",
    "norm = prep.Normalizer()\n",
    "norm.fit(X_train)\n",
    "X_train0 = norm.transform(X_train)\n",
    "X_test0 = norm.transform(X_test)"
   ]
  },
  {
   "cell_type": "code",
   "execution_count": 8,
   "metadata": {
    "collapsed": true
   },
   "outputs": [],
   "source": [
    "# train the PCA using the normalized training data & do PCA\n",
    "# for visualization purpose\n",
    "pca = PCA(n_components = 2, svd_solver = 'full')\n",
    "pca.fit(X_train0)\n",
    "Z_train = pca.transform(X_train0)\n",
    "Z_test = pca.transform(X_test0)"
   ]
  },
  {
   "cell_type": "code",
   "execution_count": 9,
   "metadata": {
    "collapsed": true
   },
   "outputs": [],
   "source": [
    "# without PCA, the accuracy score is actually higher\n",
    "# Z_train = X_train0\n",
    "# Z_test = X_test0"
   ]
  },
  {
   "cell_type": "code",
   "execution_count": 10,
   "metadata": {
    "scrolled": true
   },
   "outputs": [
    {
     "name": "stdout",
     "output_type": "stream",
     "text": [
      "0.871428571429\n",
      "0.842857142857\n",
      "0.857142857143\n",
      "0.842857142857\n",
      "0.857142857143\n",
      "0.842857142857\n",
      "0.857142857143\n",
      "0.814285714286\n",
      "0.871428571429\n"
     ]
    }
   ],
   "source": [
    "# apply KNeighbors on training data (normalized, PCA)\n",
    "for K in np.arange(9, 0, -1):\n",
    "    knc = KNeighborsClassifier(n_neighbors = K)\n",
    "    knc.fit(Z_train, y_train)\n",
    "    # show the accuracy score\n",
    "    print(knc.score(Z_test, y_test))"
   ]
  },
  {
   "cell_type": "code",
   "execution_count": 11,
   "metadata": {},
   "outputs": [
    {
     "data": {
      "text/plain": [
       "KNeighborsClassifier(algorithm='auto', leaf_size=30, metric='minkowski',\n",
       "           metric_params=None, n_jobs=1, n_neighbors=9, p=2,\n",
       "           weights='uniform')"
      ]
     },
     "execution_count": 11,
     "metadata": {},
     "output_type": "execute_result"
    }
   ],
   "source": [
    "K = 9\n",
    "knc = KNeighborsClassifier(n_neighbors = K)\n",
    "knc.fit(Z_train, y_train)"
   ]
  },
  {
   "cell_type": "code",
   "execution_count": 12,
   "metadata": {},
   "outputs": [
    {
     "data": {
      "image/png": "[encoded data removed]",
      "text/plain": [
       "<matplotlib.figure.Figure at 0x112257fd0>"
      ]
     },
     "metadata": {},
     "output_type": "display_data"
    }
   ],
   "source": [
    "# plot a classified contour\n",
    "\n",
    "# the range of the contour\n",
    "xmin, xmax = Z_train[:,0].min(), Z_train[:,0].max()\n",
    "ymin, ymax = Z_train[:,1].min(), Z_train[:,1].max()\n",
    "x_range = xmax - xmin\n",
    "y_range = ymax - ymin\n",
    "padding = 0.6\n",
    "xmin -= x_range * padding\n",
    "ymin -= y_range * padding\n",
    "xmax += x_range * padding\n",
    "ymax += y_range * padding\n",
    "\n",
    "# the grids of the contour\n",
    "resolution = 0.0025\n",
    "xx, yy = np.meshgrid(np.arange(xmin, xmax, resolution),\n",
    "                     np.arange(ymin, ymax, resolution))\n",
    "\n",
    "# show the classified contour\n",
    "zz = knc.predict(np.c_[xx.ravel(), yy.ravel()])\n",
    "zz = zz.reshape(xx.shape)\n",
    "plt.figure()\n",
    "plt.contourf(xx, yy, zz)\n",
    "colors = ['royalblue','forestgreen','ghostwhite']\n",
    "for label in range(len(np.unique(y_train))):\n",
    "    indices = np.where(y_train == label)\n",
    "    plt.scatter(Z_train[indices,0], Z_train[indices,1], c = colors[label])\n",
    "plt.title('K = ' + str(K))\n",
    "plt.show()"
   ]
  },
  {
   "cell_type": "code",
   "execution_count": null,
   "metadata": {
    "collapsed": true
   },
   "outputs": [],
   "source": []
  }
 ],
 "metadata": {
  "kernelspec": {
   "display_name": "Python 3",
   "language": "python",
   "name": "python3"
  },
  "language_info": {
   "codemirror_mode": {
    "name": "ipython",
    "version": 3
   },
   "file_extension": ".py",
   "mimetype": "text/x-python",
   "name": "python",
   "nbconvert_exporter": "python",
   "pygments_lexer": "ipython3",
   "version": "3.6.1"
  }
 },
 "nbformat": 4,
 "nbformat_minor": 2
}
