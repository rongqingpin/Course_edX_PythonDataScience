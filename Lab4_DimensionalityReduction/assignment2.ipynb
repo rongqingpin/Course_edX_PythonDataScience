{
 "cells": [
  {
   "cell_type": "code",
   "execution_count": 1,
   "metadata": {
    "collapsed": true
   },
   "outputs": [],
   "source": [
    "import pandas as pd\n",
    "import matplotlib.pyplot as plt\n",
    "from sklearn import preprocessing as pre\n",
    "from sklearn.decomposition import PCA\n",
    "import math\n",
    "import numpy as np"
   ]
  },
  {
   "cell_type": "code",
   "execution_count": 2,
   "metadata": {
    "collapsed": true
   },
   "outputs": [],
   "source": [
    "# load the data\n",
    "flc = '/Users/pinqingkan/Desktop/DataScience/PythonDataScience/DAT210x-master/Module4/Datasets/'\n",
    "fname = flc + 'kidney_disease.csv'\n",
    "X = pd.read_csv(fname, index_col = 0)"
   ]
  },
  {
   "cell_type": "code",
   "execution_count": 3,
   "metadata": {
    "collapsed": true
   },
   "outputs": [],
   "source": [
    "# initial process\n",
    "X = X.dropna(axis = 0)\n",
    "# create label for X.classification\n",
    "labels = ['red' if i=='ckd' else 'green' for i in X.classification]"
   ]
  },
  {
   "cell_type": "code",
   "execution_count": 4,
   "metadata": {
    "scrolled": false
   },
   "outputs": [
    {
     "data": {
      "text/plain": [
       "age               float64\n",
       "bp                float64\n",
       "sg                float64\n",
       "al                float64\n",
       "su                float64\n",
       "rbc                object\n",
       "pc                 object\n",
       "pcc                object\n",
       "ba                 object\n",
       "bgr               float64\n",
       "bu                float64\n",
       "sc                float64\n",
       "sod               float64\n",
       "pot               float64\n",
       "hemo              float64\n",
       "pcv                object\n",
       "wc                 object\n",
       "rc                 object\n",
       "htn                object\n",
       "dm                 object\n",
       "cad                object\n",
       "appet              object\n",
       "pe                 object\n",
       "ane                object\n",
       "classification     object\n",
       "dtype: object"
      ]
     },
     "execution_count": 4,
     "metadata": {},
     "output_type": "execute_result"
    }
   ],
   "source": [
    "# check datatype\n",
    "X.dtypes"
   ]
  },
  {
   "cell_type": "code",
   "execution_count": 5,
   "metadata": {
    "collapsed": true
   },
   "outputs": [],
   "source": [
    "# convert data type & keep three columns\n",
    "Z = X.loc[:, ['rc', 'wc']].apply(pd.to_numeric)\n",
    "Z = pd.concat([X.bgr, Z], axis = 1)"
   ]
  },
  {
   "cell_type": "code",
   "execution_count": 6,
   "metadata": {},
   "outputs": [
    {
     "data": {
      "text/plain": [
       "bgr    float64\n",
       "rc     float64\n",
       "wc       int64\n",
       "dtype: object"
      ]
     },
     "execution_count": 6,
     "metadata": {},
     "output_type": "execute_result"
    }
   ],
   "source": [
    "Z.dtypes"
   ]
  },
  {
   "cell_type": "code",
   "execution_count": 7,
   "metadata": {},
   "outputs": [
    {
     "data": {
      "text/plain": [
       "bgr    4.217182e+03\n",
       "rc     1.039104e+00\n",
       "wc     9.777380e+06\n",
       "dtype: float64"
      ]
     },
     "execution_count": 7,
     "metadata": {},
     "output_type": "execute_result"
    }
   ],
   "source": [
    "Z.var(axis = 0)"
   ]
  },
  {
   "cell_type": "code",
   "execution_count": 8,
   "metadata": {},
   "outputs": [
    {
     "data": {
      "text/html": [
       "<div>\n",
       "<table border=\"1\" class=\"dataframe\">\n",
       "  <thead>\n",
       "    <tr style=\"text-align: right;\">\n",
       "      <th></th>\n",
       "      <th>bgr</th>\n",
       "      <th>rc</th>\n",
       "      <th>wc</th>\n",
       "    </tr>\n",
       "  </thead>\n",
       "  <tbody>\n",
       "    <tr>\n",
       "      <th>count</th>\n",
       "      <td>158.000000</td>\n",
       "      <td>158.000000</td>\n",
       "      <td>158.000000</td>\n",
       "    </tr>\n",
       "    <tr>\n",
       "      <th>mean</th>\n",
       "      <td>131.341772</td>\n",
       "      <td>4.891772</td>\n",
       "      <td>8475.949367</td>\n",
       "    </tr>\n",
       "    <tr>\n",
       "      <th>std</th>\n",
       "      <td>64.939832</td>\n",
       "      <td>1.019364</td>\n",
       "      <td>3126.880181</td>\n",
       "    </tr>\n",
       "    <tr>\n",
       "      <th>min</th>\n",
       "      <td>70.000000</td>\n",
       "      <td>2.100000</td>\n",
       "      <td>3800.000000</td>\n",
       "    </tr>\n",
       "    <tr>\n",
       "      <th>25%</th>\n",
       "      <td>97.000000</td>\n",
       "      <td>4.500000</td>\n",
       "      <td>6525.000000</td>\n",
       "    </tr>\n",
       "    <tr>\n",
       "      <th>50%</th>\n",
       "      <td>115.500000</td>\n",
       "      <td>4.950000</td>\n",
       "      <td>7800.000000</td>\n",
       "    </tr>\n",
       "    <tr>\n",
       "      <th>75%</th>\n",
       "      <td>131.750000</td>\n",
       "      <td>5.600000</td>\n",
       "      <td>9775.000000</td>\n",
       "    </tr>\n",
       "    <tr>\n",
       "      <th>max</th>\n",
       "      <td>490.000000</td>\n",
       "      <td>8.000000</td>\n",
       "      <td>26400.000000</td>\n",
       "    </tr>\n",
       "  </tbody>\n",
       "</table>\n",
       "</div>"
      ],
      "text/plain": [
       "              bgr          rc            wc\n",
       "count  158.000000  158.000000    158.000000\n",
       "mean   131.341772    4.891772   8475.949367\n",
       "std     64.939832    1.019364   3126.880181\n",
       "min     70.000000    2.100000   3800.000000\n",
       "25%     97.000000    4.500000   6525.000000\n",
       "50%    115.500000    4.950000   7800.000000\n",
       "75%    131.750000    5.600000   9775.000000\n",
       "max    490.000000    8.000000  26400.000000"
      ]
     },
     "execution_count": 8,
     "metadata": {},
     "output_type": "execute_result"
    }
   ],
   "source": [
    "Z.describe()"
   ]
  },
  {
   "cell_type": "code",
   "execution_count": 20,
   "metadata": {},
   "outputs": [
    {
     "name": "stdout",
     "output_type": "stream",
     "text": [
      "PC in terms of features:\n",
      " ['bgr' 'rc' 'wc']\n",
      "[[  4.40658338e-03  -8.88092115e-05   9.99990287e-01]\n",
      " [  9.99972748e-01  -5.92303329e-03  -4.40703211e-03]]\n"
     ]
    },
    {
     "data": {
      "image/png": "[encoded data removed]",
      "text/plain": [
       "<matplotlib.figure.Figure at 0x1129dcb00>"
      ]
     },
     "metadata": {},
     "output_type": "display_data"
    }
   ],
   "source": [
    "# for comparison: do PCA with non-normalized data\n",
    "pca = PCA(n_components = 2, svd_solver = 'full')\n",
    "Z2pca = pca.fit(Z)\n",
    "PCA(copy = True, n_components = 2, whiten = False)\n",
    "Z2 = pca.transform(Z)\n",
    "# PCA interpretation\n",
    "Nfeature = Z.shape[1]\n",
    "print('PC in terms of features:\\n',Z.columns.values)\n",
    "print(Z2pca.components_)\n",
    "# scatter plot\n",
    "Z2 = pd.DataFrame(Z2)\n",
    "Z2.columns = ['component 1', 'component 2']\n",
    "Z2.plot.scatter(x = 'component 1', y = 'component 2', marker = 'o', c = labels, alpha = 0.75)\n",
    "plt.show()"
   ]
  },
  {
   "cell_type": "code",
   "execution_count": 9,
   "metadata": {
    "collapsed": true
   },
   "outputs": [],
   "source": [
    "# normalize the data before PCA\n",
    "Z0 = pre.StandardScaler().fit_transform(Z)\n",
    "Z0 = pd.DataFrame(Z0, columns = Z.columns)"
   ]
  },
  {
   "cell_type": "code",
   "execution_count": 10,
   "metadata": {},
   "outputs": [
    {
     "data": {
      "text/plain": [
       "bgr    1.006369\n",
       "rc     1.006369\n",
       "wc     1.006369\n",
       "dtype: float64"
      ]
     },
     "execution_count": 10,
     "metadata": {},
     "output_type": "execute_result"
    }
   ],
   "source": [
    "# check the variance\n",
    "Z0.var(axis = 0)"
   ]
  },
  {
   "cell_type": "code",
   "execution_count": 11,
   "metadata": {},
   "outputs": [
    {
     "data": {
      "text/html": [
       "<div>\n",
       "<table border=\"1\" class=\"dataframe\">\n",
       "  <thead>\n",
       "    <tr style=\"text-align: right;\">\n",
       "      <th></th>\n",
       "      <th>bgr</th>\n",
       "      <th>rc</th>\n",
       "      <th>wc</th>\n",
       "    </tr>\n",
       "  </thead>\n",
       "  <tbody>\n",
       "    <tr>\n",
       "      <th>count</th>\n",
       "      <td>1.580000e+02</td>\n",
       "      <td>1.580000e+02</td>\n",
       "      <td>1.580000e+02</td>\n",
       "    </tr>\n",
       "    <tr>\n",
       "      <th>mean</th>\n",
       "      <td>-9.755075e-17</td>\n",
       "      <td>1.068063e-16</td>\n",
       "      <td>9.345548e-17</td>\n",
       "    </tr>\n",
       "    <tr>\n",
       "      <th>std</th>\n",
       "      <td>1.003180e+00</td>\n",
       "      <td>1.003180e+00</td>\n",
       "      <td>1.003180e+00</td>\n",
       "    </tr>\n",
       "    <tr>\n",
       "      <th>min</th>\n",
       "      <td>-9.475974e-01</td>\n",
       "      <td>-2.747446e+00</td>\n",
       "      <td>-1.500159e+00</td>\n",
       "    </tr>\n",
       "    <tr>\n",
       "      <th>25%</th>\n",
       "      <td>-5.305059e-01</td>\n",
       "      <td>-3.855519e-01</td>\n",
       "      <td>-6.259123e-01</td>\n",
       "    </tr>\n",
       "    <tr>\n",
       "      <th>50%</th>\n",
       "      <td>-2.447210e-01</td>\n",
       "      <td>5.730335e-02</td>\n",
       "      <td>-2.168611e-01</td>\n",
       "    </tr>\n",
       "    <tr>\n",
       "      <th>75%</th>\n",
       "      <td>6.306235e-03</td>\n",
       "      <td>6.969831e-01</td>\n",
       "      <td>4.167672e-01</td>\n",
       "    </tr>\n",
       "    <tr>\n",
       "      <th>max</th>\n",
       "      <td>5.540492e+00</td>\n",
       "      <td>3.058878e+00</td>\n",
       "      <td>5.750474e+00</td>\n",
       "    </tr>\n",
       "  </tbody>\n",
       "</table>\n",
       "</div>"
      ],
      "text/plain": [
       "                bgr            rc            wc\n",
       "count  1.580000e+02  1.580000e+02  1.580000e+02\n",
       "mean  -9.755075e-17  1.068063e-16  9.345548e-17\n",
       "std    1.003180e+00  1.003180e+00  1.003180e+00\n",
       "min   -9.475974e-01 -2.747446e+00 -1.500159e+00\n",
       "25%   -5.305059e-01 -3.855519e-01 -6.259123e-01\n",
       "50%   -2.447210e-01  5.730335e-02 -2.168611e-01\n",
       "75%    6.306235e-03  6.969831e-01  4.167672e-01\n",
       "max    5.540492e+00  3.058878e+00  5.750474e+00"
      ]
     },
     "execution_count": 11,
     "metadata": {},
     "output_type": "execute_result"
    }
   ],
   "source": [
    "Z0.describe()"
   ]
  },
  {
   "cell_type": "code",
   "execution_count": 12,
   "metadata": {
    "collapsed": true
   },
   "outputs": [],
   "source": [
    "pca = PCA(n_components = 2, svd_solver = 'full')\n",
    "Z2pca = pca.fit(Z0)\n",
    "PCA(copy = True, n_components = 2, whiten = False)\n",
    "Z2 = pca.transform(Z0)"
   ]
  },
  {
   "cell_type": "code",
   "execution_count": 13,
   "metadata": {},
   "outputs": [
    {
     "name": "stdout",
     "output_type": "stream",
     "text": [
      "PC in terms of features:\n",
      " ['bgr' 'rc' 'wc']\n",
      "[[ 0.60180443 -0.63053032  0.49016625]\n",
      " [-0.45604187  0.23254161  0.85904029]]\n"
     ]
    }
   ],
   "source": [
    "# PCA interpretation\n",
    "Nfeature = Z0.shape[1]\n",
    "print('PC in terms of features:\\n',Z0.columns.values)\n",
    "print(Z2pca.components_)"
   ]
  },
  {
   "cell_type": "code",
   "execution_count": 14,
   "metadata": {},
   "outputs": [
    {
     "name": "stdout",
     "output_type": "stream",
     "text": [
      "[[ 0.76379173 -0.41136628]\n",
      " [-0.80024975  0.20976096]\n",
      " [ 0.62210397  0.77488545]]\n"
     ]
    }
   ],
   "source": [
    "# cor between PC and features\n",
    "corr0 = np.zeros((Nfeature,2))\n",
    "for i in range(Nfeature):\n",
    "    for j in range(2):\n",
    "        aa = Z0.iloc[:,i].as_matrix()\n",
    "        bb = Z2[:,j]\n",
    "        corr0[i,j] = np.corrcoef(aa, bb)[0,1]\n",
    "print(corr0)"
   ]
  },
  {
   "cell_type": "code",
   "execution_count": 15,
   "metadata": {},
   "outputs": [
    {
     "data": {
      "image/png": "[encoded data removed]",
      "text/plain": [
       "<matplotlib.figure.Figure at 0x1129ac550>"
      ]
     },
     "metadata": {},
     "output_type": "display_data"
    }
   ],
   "source": [
    "# view the features in the PC space\n",
    "\n",
    "# express the features in terms of PC & estimate the strongest features\n",
    "x = Z2pca.components_[0] * max(Z2[:,0])\n",
    "y = Z2pca.components_[1] * max(Z2[:,1])\n",
    "# plot\n",
    "ax = plt.axes()\n",
    "for i in range(Nfeature):\n",
    "    ax.arrow(0, 0, x[i], y[i], color = 'b', head_width = 0.05, head_length = 0.1)\n",
    "    plt.text(x[i]*1.2, y[i]*1.2, Z0.columns.values[i], color = 'b', alpha = 0.75)\n",
    "plt.axis([-4,4,-2.5,4.5])\n",
    "\n",
    "# show the transformed samples in the PC frame\n",
    "Z2 = pd.DataFrame(Z2)\n",
    "Z2.columns = ['component 1', 'component 2']\n",
    "Z2.plot.scatter(x = 'component 1', y = 'component 2', marker = 'o', c = labels, alpha = 0.75, ax = ax)\n",
    "plt.show()"
   ]
  },
  {
   "cell_type": "code",
   "execution_count": 16,
   "metadata": {},
   "outputs": [
    {
     "name": "stdout",
     "output_type": "stream",
     "text": [
      "Features by importance:\n",
      " [(3.9998071556884818, 'wc'), (3.2588876641210898, 'bgr'), (3.009752752998361, 'rc')]\n"
     ]
    }
   ],
   "source": [
    "# create a dictionary of the features\n",
    "features = Z0.columns.values\n",
    "features_imp = { features[i]: math.sqrt(x[i]**2 + y[i]**2) for i in range(Nfeature) }\n",
    "# order by importance\n",
    "features_imp = sorted( zip(features_imp.values(), features_imp.keys()), reverse = True )\n",
    "# what are the important features?\n",
    "print(\"Features by importance:\\n\", features_imp)"
   ]
  }
 ],
 "metadata": {
  "kernelspec": {
   "display_name": "Python 3",
   "language": "python",
   "name": "python3"
  },
  "language_info": {
   "codemirror_mode": {
    "name": "ipython",
    "version": 3
   },
   "file_extension": ".py",
   "mimetype": "text/x-python",
   "name": "python",
   "nbconvert_exporter": "python",
   "pygments_lexer": "ipython3",
   "version": "3.6.0"
  }
 },
 "nbformat": 4,
 "nbformat_minor": 2
}
