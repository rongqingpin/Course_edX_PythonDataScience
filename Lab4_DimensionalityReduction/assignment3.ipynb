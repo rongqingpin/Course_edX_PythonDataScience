{
 "cells": [
  {
   "cell_type": "code",
   "execution_count": 1,
   "metadata": {
    "collapsed": true
   },
   "outputs": [],
   "source": [
    "import pandas as pd\n",
    "import matplotlib.pyplot as plt\n",
    "from sklearn.decomposition import PCA\n",
    "from sklearn import preprocessing as pre\n",
    "import numpy as np"
   ]
  },
  {
   "cell_type": "code",
   "execution_count": 2,
   "metadata": {
    "collapsed": true
   },
   "outputs": [],
   "source": [
    "# load the data\n",
    "flc = '/Users/pinqingkan/Desktop/DataScience/PythonDataScience/DAT210x-master/Module4/Datasets/'\n",
    "fname = flc + 'kidney_disease.csv'\n",
    "X = pd.read_csv(fname, index_col = 0)"
   ]
  },
  {
   "cell_type": "code",
   "execution_count": 3,
   "metadata": {
    "collapsed": true
   },
   "outputs": [],
   "source": [
    "# initial process\n",
    "X = X.dropna(axis = 0)\n",
    "# create label for X.classification\n",
    "labels = ['red' if i=='ckd' else 'green' for i in X.classification]"
   ]
  },
  {
   "cell_type": "code",
   "execution_count": 4,
   "metadata": {},
   "outputs": [],
   "source": [
    "# data slicing\n",
    "Column_nominal = ['classification', 'rbc', 'pc', 'pcc', 'ba', 'htn', 'dm', 'cad', 'appet', 'pe', 'ane']\n",
    "Y = X.drop(Column_nominal, axis = 1)"
   ]
  },
  {
   "cell_type": "code",
   "execution_count": 5,
   "metadata": {},
   "outputs": [
    {
     "data": {
      "text/plain": [
       "age     float64\n",
       "bp      float64\n",
       "sg      float64\n",
       "al      float64\n",
       "su      float64\n",
       "bgr     float64\n",
       "bu      float64\n",
       "sc      float64\n",
       "sod     float64\n",
       "pot     float64\n",
       "hemo    float64\n",
       "pcv      object\n",
       "wc       object\n",
       "rc       object\n",
       "dtype: object"
      ]
     },
     "execution_count": 5,
     "metadata": {},
     "output_type": "execute_result"
    }
   ],
   "source": [
    "Y.dtypes"
   ]
  },
  {
   "cell_type": "code",
   "execution_count": 6,
   "metadata": {},
   "outputs": [],
   "source": [
    "# convert data type\n",
    "Z = Y.loc[:, ['pcv','rc', 'wc']].apply(pd.to_numeric, errors = 'coerce')\n",
    "Y = Y.drop(['pcv','rc', 'wc'], axis = 1)\n",
    "Y = pd.concat([Y, Z], axis = 1)"
   ]
  },
  {
   "cell_type": "code",
   "execution_count": 7,
   "metadata": {
    "scrolled": true
   },
   "outputs": [
    {
     "data": {
      "text/html": [
       "<div>\n",
       "<table border=\"1\" class=\"dataframe\">\n",
       "  <thead>\n",
       "    <tr style=\"text-align: right;\">\n",
       "      <th></th>\n",
       "      <th>age</th>\n",
       "      <th>bp</th>\n",
       "      <th>sg</th>\n",
       "      <th>al</th>\n",
       "      <th>su</th>\n",
       "      <th>bgr</th>\n",
       "      <th>bu</th>\n",
       "      <th>sc</th>\n",
       "      <th>sod</th>\n",
       "      <th>pot</th>\n",
       "      <th>hemo</th>\n",
       "      <th>pcv</th>\n",
       "      <th>rc</th>\n",
       "      <th>wc</th>\n",
       "    </tr>\n",
       "  </thead>\n",
       "  <tbody>\n",
       "    <tr>\n",
       "      <th>count</th>\n",
       "      <td>158.000000</td>\n",
       "      <td>158.000000</td>\n",
       "      <td>158.000000</td>\n",
       "      <td>158.000000</td>\n",
       "      <td>158.000000</td>\n",
       "      <td>158.000000</td>\n",
       "      <td>158.000000</td>\n",
       "      <td>158.000000</td>\n",
       "      <td>158.000000</td>\n",
       "      <td>158.000000</td>\n",
       "      <td>158.000000</td>\n",
       "      <td>158.000000</td>\n",
       "      <td>158.000000</td>\n",
       "      <td>158.000000</td>\n",
       "    </tr>\n",
       "    <tr>\n",
       "      <th>mean</th>\n",
       "      <td>49.563291</td>\n",
       "      <td>74.050633</td>\n",
       "      <td>1.019873</td>\n",
       "      <td>0.797468</td>\n",
       "      <td>0.253165</td>\n",
       "      <td>131.341772</td>\n",
       "      <td>52.575949</td>\n",
       "      <td>2.188608</td>\n",
       "      <td>138.848101</td>\n",
       "      <td>4.636709</td>\n",
       "      <td>13.687342</td>\n",
       "      <td>41.917722</td>\n",
       "      <td>4.891772</td>\n",
       "      <td>8475.949367</td>\n",
       "    </tr>\n",
       "    <tr>\n",
       "      <th>std</th>\n",
       "      <td>15.512244</td>\n",
       "      <td>11.175381</td>\n",
       "      <td>0.005499</td>\n",
       "      <td>1.413130</td>\n",
       "      <td>0.813397</td>\n",
       "      <td>64.939832</td>\n",
       "      <td>47.395382</td>\n",
       "      <td>3.077615</td>\n",
       "      <td>7.489421</td>\n",
       "      <td>3.476351</td>\n",
       "      <td>2.882204</td>\n",
       "      <td>9.105164</td>\n",
       "      <td>1.019364</td>\n",
       "      <td>3126.880181</td>\n",
       "    </tr>\n",
       "    <tr>\n",
       "      <th>min</th>\n",
       "      <td>6.000000</td>\n",
       "      <td>50.000000</td>\n",
       "      <td>1.005000</td>\n",
       "      <td>0.000000</td>\n",
       "      <td>0.000000</td>\n",
       "      <td>70.000000</td>\n",
       "      <td>10.000000</td>\n",
       "      <td>0.400000</td>\n",
       "      <td>111.000000</td>\n",
       "      <td>2.500000</td>\n",
       "      <td>3.100000</td>\n",
       "      <td>9.000000</td>\n",
       "      <td>2.100000</td>\n",
       "      <td>3800.000000</td>\n",
       "    </tr>\n",
       "    <tr>\n",
       "      <th>25%</th>\n",
       "      <td>39.250000</td>\n",
       "      <td>60.000000</td>\n",
       "      <td>1.020000</td>\n",
       "      <td>0.000000</td>\n",
       "      <td>0.000000</td>\n",
       "      <td>97.000000</td>\n",
       "      <td>26.000000</td>\n",
       "      <td>0.700000</td>\n",
       "      <td>135.000000</td>\n",
       "      <td>3.700000</td>\n",
       "      <td>12.600000</td>\n",
       "      <td>37.500000</td>\n",
       "      <td>4.500000</td>\n",
       "      <td>6525.000000</td>\n",
       "    </tr>\n",
       "    <tr>\n",
       "      <th>50%</th>\n",
       "      <td>50.500000</td>\n",
       "      <td>80.000000</td>\n",
       "      <td>1.020000</td>\n",
       "      <td>0.000000</td>\n",
       "      <td>0.000000</td>\n",
       "      <td>115.500000</td>\n",
       "      <td>39.500000</td>\n",
       "      <td>1.100000</td>\n",
       "      <td>139.000000</td>\n",
       "      <td>4.500000</td>\n",
       "      <td>14.250000</td>\n",
       "      <td>44.000000</td>\n",
       "      <td>4.950000</td>\n",
       "      <td>7800.000000</td>\n",
       "    </tr>\n",
       "    <tr>\n",
       "      <th>75%</th>\n",
       "      <td>60.000000</td>\n",
       "      <td>80.000000</td>\n",
       "      <td>1.025000</td>\n",
       "      <td>1.000000</td>\n",
       "      <td>0.000000</td>\n",
       "      <td>131.750000</td>\n",
       "      <td>49.750000</td>\n",
       "      <td>1.600000</td>\n",
       "      <td>144.000000</td>\n",
       "      <td>4.900000</td>\n",
       "      <td>15.775000</td>\n",
       "      <td>48.000000</td>\n",
       "      <td>5.600000</td>\n",
       "      <td>9775.000000</td>\n",
       "    </tr>\n",
       "    <tr>\n",
       "      <th>max</th>\n",
       "      <td>83.000000</td>\n",
       "      <td>110.000000</td>\n",
       "      <td>1.025000</td>\n",
       "      <td>4.000000</td>\n",
       "      <td>5.000000</td>\n",
       "      <td>490.000000</td>\n",
       "      <td>309.000000</td>\n",
       "      <td>15.200000</td>\n",
       "      <td>150.000000</td>\n",
       "      <td>47.000000</td>\n",
       "      <td>17.800000</td>\n",
       "      <td>54.000000</td>\n",
       "      <td>8.000000</td>\n",
       "      <td>26400.000000</td>\n",
       "    </tr>\n",
       "  </tbody>\n",
       "</table>\n",
       "</div>"
      ],
      "text/plain": [
       "              age          bp          sg          al          su         bgr  \\\n",
       "count  158.000000  158.000000  158.000000  158.000000  158.000000  158.000000   \n",
       "mean    49.563291   74.050633    1.019873    0.797468    0.253165  131.341772   \n",
       "std     15.512244   11.175381    0.005499    1.413130    0.813397   64.939832   \n",
       "min      6.000000   50.000000    1.005000    0.000000    0.000000   70.000000   \n",
       "25%     39.250000   60.000000    1.020000    0.000000    0.000000   97.000000   \n",
       "50%     50.500000   80.000000    1.020000    0.000000    0.000000  115.500000   \n",
       "75%     60.000000   80.000000    1.025000    1.000000    0.000000  131.750000   \n",
       "max     83.000000  110.000000    1.025000    4.000000    5.000000  490.000000   \n",
       "\n",
       "               bu          sc         sod         pot        hemo         pcv  \\\n",
       "count  158.000000  158.000000  158.000000  158.000000  158.000000  158.000000   \n",
       "mean    52.575949    2.188608  138.848101    4.636709   13.687342   41.917722   \n",
       "std     47.395382    3.077615    7.489421    3.476351    2.882204    9.105164   \n",
       "min     10.000000    0.400000  111.000000    2.500000    3.100000    9.000000   \n",
       "25%     26.000000    0.700000  135.000000    3.700000   12.600000   37.500000   \n",
       "50%     39.500000    1.100000  139.000000    4.500000   14.250000   44.000000   \n",
       "75%     49.750000    1.600000  144.000000    4.900000   15.775000   48.000000   \n",
       "max    309.000000   15.200000  150.000000   47.000000   17.800000   54.000000   \n",
       "\n",
       "               rc            wc  \n",
       "count  158.000000    158.000000  \n",
       "mean     4.891772   8475.949367  \n",
       "std      1.019364   3126.880181  \n",
       "min      2.100000   3800.000000  \n",
       "25%      4.500000   6525.000000  \n",
       "50%      4.950000   7800.000000  \n",
       "75%      5.600000   9775.000000  \n",
       "max      8.000000  26400.000000  "
      ]
     },
     "execution_count": 7,
     "metadata": {},
     "output_type": "execute_result"
    }
   ],
   "source": [
    "Y.describe()"
   ]
  },
  {
   "cell_type": "code",
   "execution_count": 8,
   "metadata": {},
   "outputs": [],
   "source": [
    "# normalize the data before PCA\n",
    "Y0 = pre.StandardScaler().fit_transform(Y)\n",
    "Y0 = pd.DataFrame(Y0, columns = Y.columns)"
   ]
  },
  {
   "cell_type": "code",
   "execution_count": 9,
   "metadata": {
    "collapsed": true
   },
   "outputs": [],
   "source": [
    "# PCA on the numerical features\n",
    "Nfeature = len(Y0.columns.values)\n",
    "pca = PCA(n_components = Nfeature, svd_solver = 'full')\n",
    "Y2pca = pca.fit(Y0)\n",
    "PCA(copy = True, n_components = Nfeature, whiten = False)\n",
    "Y2 = pca.transform(Y0)"
   ]
  },
  {
   "cell_type": "code",
   "execution_count": 10,
   "metadata": {
    "scrolled": true
   },
   "outputs": [
    {
     "name": "stdout",
     "output_type": "stream",
     "text": [
      "[ 0.47283016  0.09747878  0.08806585  0.06325005  0.06075348  0.0544439\n",
      "  0.04075951  0.03157992  0.02445793  0.0193426   0.01778336  0.01327498\n",
      "  0.00986414  0.00611535]\n"
     ]
    },
    {
     "data": {
      "image/png": "[encoded data removed]",
      "text/plain": [
       "<matplotlib.figure.Figure at 0x11b8e5940>"
      ]
     },
     "metadata": {},
     "output_type": "display_data"
    }
   ],
   "source": [
    "# explore how many PA to keep\n",
    "print(Y2pca.explained_variance_ratio_)\n",
    "# scree plot\n",
    "x_PC = np.arange(1,Nfeature+1,1)\n",
    "plt.plot(x_PC, Y2pca.explained_variance_ratio_)\n",
    "plt.show()"
   ]
  },
  {
   "cell_type": "code",
   "execution_count": 11,
   "metadata": {},
   "outputs": [
    {
     "name": "stdout",
     "output_type": "stream",
     "text": [
      "[[ 0.32822302  0.39904781 -0.80033538  0.88791971  0.5840551   0.61302234\n",
      "   0.80770639  0.82974651 -0.66248729  0.24065448 -0.89319458 -0.89707886\n",
      "  -0.80434279  0.3458476 ]\n",
      " [ 0.42012814 -0.2244372  -0.15512474  0.01537084  0.52339205  0.59231354\n",
      "  -0.35527105 -0.3481242   0.20054008 -0.14578731  0.11111613  0.11073727\n",
      "   0.05884878  0.38961225]]\n"
     ]
    }
   ],
   "source": [
    "# cor between PC and features\n",
    "corr0 = np.zeros((2,Nfeature))\n",
    "for j in range(Nfeature):\n",
    "    for i in range(2):\n",
    "        aa = Y0.iloc[:,j].as_matrix()\n",
    "        bb = Y2[:,i]\n",
    "        corr0[i,j] = np.corrcoef(aa, bb)[0,1]\n",
    "print(corr0)"
   ]
  },
  {
   "cell_type": "code",
   "execution_count": 12,
   "metadata": {},
   "outputs": [
    {
     "data": {
      "image/png": "[encoded data removed]",
      "text/plain": [
       "<matplotlib.figure.Figure at 0x11ed08d68>"
      ]
     },
     "metadata": {},
     "output_type": "display_data"
    }
   ],
   "source": [
    "# view the features in 2 PC space\n",
    "\n",
    "# express the features in terms of PC & estimate the strongest features\n",
    "x = Y2pca.components_[0] * max(Y2[:,0])\n",
    "y = Y2pca.components_[1] * max(Y2[:,1])\n",
    "# plot\n",
    "ax = plt.axes()\n",
    "for i in range(Nfeature):\n",
    "    ax.arrow(0, 0, x[i], y[i], color = 'b', head_width = 0.05, head_length = 0.1)\n",
    "    plt.text(x[i]*1.2, y[i]*1.2, Y0.columns.values[i], color = 'b', alpha = 0.75)\n",
    "plt.axis([-4,4,-2.5,4.5])\n",
    "#plt.axis([0,4,-2.5,0.5])\n",
    "#plt.axis([-4, -1, -1.5, 2])\n",
    "\n",
    "# show the transformed samples in the PC frame\n",
    "Y2plot = pd.DataFrame(Y2[:,0:2])\n",
    "Y2plot.columns = ['component 1', 'component 2']\n",
    "Y2plot.plot.scatter(x = 'component 1', y = 'component 2', marker = 'o', c = labels, alpha = 0.75, ax = ax)\n",
    "plt.show()"
   ]
  },
  {
   "cell_type": "code",
   "execution_count": 13,
   "metadata": {},
   "outputs": [],
   "source": [
    "# convert the nominal features\n",
    "Z = X[Column_nominal]\n",
    "Z = Z.drop(['classification'], axis = 1)\n",
    "Znum = pd.get_dummies(Z)"
   ]
  },
  {
   "cell_type": "code",
   "execution_count": 14,
   "metadata": {},
   "outputs": [
    {
     "data": {
      "text/plain": [
       "rbc_abnormal      uint8\n",
       "rbc_normal        uint8\n",
       "pc_abnormal       uint8\n",
       "pc_normal         uint8\n",
       "pcc_notpresent    uint8\n",
       "pcc_present       uint8\n",
       "ba_notpresent     uint8\n",
       "ba_present        uint8\n",
       "htn_no            uint8\n",
       "htn_yes           uint8\n",
       "dm_no             uint8\n",
       "dm_yes            uint8\n",
       "cad_no            uint8\n",
       "cad_yes           uint8\n",
       "appet_good        uint8\n",
       "appet_poor        uint8\n",
       "pe_no             uint8\n",
       "pe_yes            uint8\n",
       "ane_no            uint8\n",
       "ane_yes           uint8\n",
       "dtype: object"
      ]
     },
     "execution_count": 14,
     "metadata": {},
     "output_type": "execute_result"
    }
   ],
   "source": [
    "Znum.dtypes"
   ]
  },
  {
   "cell_type": "code",
   "execution_count": 15,
   "metadata": {
    "collapsed": true
   },
   "outputs": [],
   "source": [
    "# combine with the numerical features\n",
    "Zall = pd.concat([Y, Znum], axis = 1)"
   ]
  },
  {
   "cell_type": "code",
   "execution_count": 16,
   "metadata": {},
   "outputs": [
    {
     "data": {
      "text/html": [
       "<div>\n",
       "<table border=\"1\" class=\"dataframe\">\n",
       "  <thead>\n",
       "    <tr style=\"text-align: right;\">\n",
       "      <th></th>\n",
       "      <th>age</th>\n",
       "      <th>bp</th>\n",
       "      <th>sg</th>\n",
       "      <th>al</th>\n",
       "      <th>su</th>\n",
       "      <th>bgr</th>\n",
       "      <th>bu</th>\n",
       "      <th>sc</th>\n",
       "      <th>sod</th>\n",
       "      <th>pot</th>\n",
       "      <th>...</th>\n",
       "      <th>dm_no</th>\n",
       "      <th>dm_yes</th>\n",
       "      <th>cad_no</th>\n",
       "      <th>cad_yes</th>\n",
       "      <th>appet_good</th>\n",
       "      <th>appet_poor</th>\n",
       "      <th>pe_no</th>\n",
       "      <th>pe_yes</th>\n",
       "      <th>ane_no</th>\n",
       "      <th>ane_yes</th>\n",
       "    </tr>\n",
       "  </thead>\n",
       "  <tbody>\n",
       "    <tr>\n",
       "      <th>count</th>\n",
       "      <td>158.000000</td>\n",
       "      <td>158.000000</td>\n",
       "      <td>158.000000</td>\n",
       "      <td>158.000000</td>\n",
       "      <td>158.000000</td>\n",
       "      <td>158.000000</td>\n",
       "      <td>158.000000</td>\n",
       "      <td>158.000000</td>\n",
       "      <td>158.000000</td>\n",
       "      <td>158.000000</td>\n",
       "      <td>...</td>\n",
       "      <td>158.000000</td>\n",
       "      <td>158.000000</td>\n",
       "      <td>158.000000</td>\n",
       "      <td>158.000000</td>\n",
       "      <td>158.000000</td>\n",
       "      <td>158.000000</td>\n",
       "      <td>158.000000</td>\n",
       "      <td>158.000000</td>\n",
       "      <td>158.000000</td>\n",
       "      <td>158.000000</td>\n",
       "    </tr>\n",
       "    <tr>\n",
       "      <th>mean</th>\n",
       "      <td>49.563291</td>\n",
       "      <td>74.050633</td>\n",
       "      <td>1.019873</td>\n",
       "      <td>0.797468</td>\n",
       "      <td>0.253165</td>\n",
       "      <td>131.341772</td>\n",
       "      <td>52.575949</td>\n",
       "      <td>2.188608</td>\n",
       "      <td>138.848101</td>\n",
       "      <td>4.636709</td>\n",
       "      <td>...</td>\n",
       "      <td>0.822785</td>\n",
       "      <td>0.177215</td>\n",
       "      <td>0.930380</td>\n",
       "      <td>0.069620</td>\n",
       "      <td>0.879747</td>\n",
       "      <td>0.120253</td>\n",
       "      <td>0.873418</td>\n",
       "      <td>0.126582</td>\n",
       "      <td>0.898734</td>\n",
       "      <td>0.101266</td>\n",
       "    </tr>\n",
       "    <tr>\n",
       "      <th>std</th>\n",
       "      <td>15.512244</td>\n",
       "      <td>11.175381</td>\n",
       "      <td>0.005499</td>\n",
       "      <td>1.413130</td>\n",
       "      <td>0.813397</td>\n",
       "      <td>64.939832</td>\n",
       "      <td>47.395382</td>\n",
       "      <td>3.077615</td>\n",
       "      <td>7.489421</td>\n",
       "      <td>3.476351</td>\n",
       "      <td>...</td>\n",
       "      <td>0.383065</td>\n",
       "      <td>0.383065</td>\n",
       "      <td>0.255315</td>\n",
       "      <td>0.255315</td>\n",
       "      <td>0.326292</td>\n",
       "      <td>0.326292</td>\n",
       "      <td>0.333562</td>\n",
       "      <td>0.333562</td>\n",
       "      <td>0.302640</td>\n",
       "      <td>0.302640</td>\n",
       "    </tr>\n",
       "    <tr>\n",
       "      <th>min</th>\n",
       "      <td>6.000000</td>\n",
       "      <td>50.000000</td>\n",
       "      <td>1.005000</td>\n",
       "      <td>0.000000</td>\n",
       "      <td>0.000000</td>\n",
       "      <td>70.000000</td>\n",
       "      <td>10.000000</td>\n",
       "      <td>0.400000</td>\n",
       "      <td>111.000000</td>\n",
       "      <td>2.500000</td>\n",
       "      <td>...</td>\n",
       "      <td>0.000000</td>\n",
       "      <td>0.000000</td>\n",
       "      <td>0.000000</td>\n",
       "      <td>0.000000</td>\n",
       "      <td>0.000000</td>\n",
       "      <td>0.000000</td>\n",
       "      <td>0.000000</td>\n",
       "      <td>0.000000</td>\n",
       "      <td>0.000000</td>\n",
       "      <td>0.000000</td>\n",
       "    </tr>\n",
       "    <tr>\n",
       "      <th>25%</th>\n",
       "      <td>39.250000</td>\n",
       "      <td>60.000000</td>\n",
       "      <td>1.020000</td>\n",
       "      <td>0.000000</td>\n",
       "      <td>0.000000</td>\n",
       "      <td>97.000000</td>\n",
       "      <td>26.000000</td>\n",
       "      <td>0.700000</td>\n",
       "      <td>135.000000</td>\n",
       "      <td>3.700000</td>\n",
       "      <td>...</td>\n",
       "      <td>1.000000</td>\n",
       "      <td>0.000000</td>\n",
       "      <td>1.000000</td>\n",
       "      <td>0.000000</td>\n",
       "      <td>1.000000</td>\n",
       "      <td>0.000000</td>\n",
       "      <td>1.000000</td>\n",
       "      <td>0.000000</td>\n",
       "      <td>1.000000</td>\n",
       "      <td>0.000000</td>\n",
       "    </tr>\n",
       "    <tr>\n",
       "      <th>50%</th>\n",
       "      <td>50.500000</td>\n",
       "      <td>80.000000</td>\n",
       "      <td>1.020000</td>\n",
       "      <td>0.000000</td>\n",
       "      <td>0.000000</td>\n",
       "      <td>115.500000</td>\n",
       "      <td>39.500000</td>\n",
       "      <td>1.100000</td>\n",
       "      <td>139.000000</td>\n",
       "      <td>4.500000</td>\n",
       "      <td>...</td>\n",
       "      <td>1.000000</td>\n",
       "      <td>0.000000</td>\n",
       "      <td>1.000000</td>\n",
       "      <td>0.000000</td>\n",
       "      <td>1.000000</td>\n",
       "      <td>0.000000</td>\n",
       "      <td>1.000000</td>\n",
       "      <td>0.000000</td>\n",
       "      <td>1.000000</td>\n",
       "      <td>0.000000</td>\n",
       "    </tr>\n",
       "    <tr>\n",
       "      <th>75%</th>\n",
       "      <td>60.000000</td>\n",
       "      <td>80.000000</td>\n",
       "      <td>1.025000</td>\n",
       "      <td>1.000000</td>\n",
       "      <td>0.000000</td>\n",
       "      <td>131.750000</td>\n",
       "      <td>49.750000</td>\n",
       "      <td>1.600000</td>\n",
       "      <td>144.000000</td>\n",
       "      <td>4.900000</td>\n",
       "      <td>...</td>\n",
       "      <td>1.000000</td>\n",
       "      <td>0.000000</td>\n",
       "      <td>1.000000</td>\n",
       "      <td>0.000000</td>\n",
       "      <td>1.000000</td>\n",
       "      <td>0.000000</td>\n",
       "      <td>1.000000</td>\n",
       "      <td>0.000000</td>\n",
       "      <td>1.000000</td>\n",
       "      <td>0.000000</td>\n",
       "    </tr>\n",
       "    <tr>\n",
       "      <th>max</th>\n",
       "      <td>83.000000</td>\n",
       "      <td>110.000000</td>\n",
       "      <td>1.025000</td>\n",
       "      <td>4.000000</td>\n",
       "      <td>5.000000</td>\n",
       "      <td>490.000000</td>\n",
       "      <td>309.000000</td>\n",
       "      <td>15.200000</td>\n",
       "      <td>150.000000</td>\n",
       "      <td>47.000000</td>\n",
       "      <td>...</td>\n",
       "      <td>1.000000</td>\n",
       "      <td>1.000000</td>\n",
       "      <td>1.000000</td>\n",
       "      <td>1.000000</td>\n",
       "      <td>1.000000</td>\n",
       "      <td>1.000000</td>\n",
       "      <td>1.000000</td>\n",
       "      <td>1.000000</td>\n",
       "      <td>1.000000</td>\n",
       "      <td>1.000000</td>\n",
       "    </tr>\n",
       "  </tbody>\n",
       "</table>\n",
       "<p>8 rows × 34 columns</p>\n",
       "</div>"
      ],
      "text/plain": [
       "              age          bp          sg          al          su         bgr  \\\n",
       "count  158.000000  158.000000  158.000000  158.000000  158.000000  158.000000   \n",
       "mean    49.563291   74.050633    1.019873    0.797468    0.253165  131.341772   \n",
       "std     15.512244   11.175381    0.005499    1.413130    0.813397   64.939832   \n",
       "min      6.000000   50.000000    1.005000    0.000000    0.000000   70.000000   \n",
       "25%     39.250000   60.000000    1.020000    0.000000    0.000000   97.000000   \n",
       "50%     50.500000   80.000000    1.020000    0.000000    0.000000  115.500000   \n",
       "75%     60.000000   80.000000    1.025000    1.000000    0.000000  131.750000   \n",
       "max     83.000000  110.000000    1.025000    4.000000    5.000000  490.000000   \n",
       "\n",
       "               bu          sc         sod         pot     ...           dm_no  \\\n",
       "count  158.000000  158.000000  158.000000  158.000000     ...      158.000000   \n",
       "mean    52.575949    2.188608  138.848101    4.636709     ...        0.822785   \n",
       "std     47.395382    3.077615    7.489421    3.476351     ...        0.383065   \n",
       "min     10.000000    0.400000  111.000000    2.500000     ...        0.000000   \n",
       "25%     26.000000    0.700000  135.000000    3.700000     ...        1.000000   \n",
       "50%     39.500000    1.100000  139.000000    4.500000     ...        1.000000   \n",
       "75%     49.750000    1.600000  144.000000    4.900000     ...        1.000000   \n",
       "max    309.000000   15.200000  150.000000   47.000000     ...        1.000000   \n",
       "\n",
       "           dm_yes      cad_no     cad_yes  appet_good  appet_poor       pe_no  \\\n",
       "count  158.000000  158.000000  158.000000  158.000000  158.000000  158.000000   \n",
       "mean     0.177215    0.930380    0.069620    0.879747    0.120253    0.873418   \n",
       "std      0.383065    0.255315    0.255315    0.326292    0.326292    0.333562   \n",
       "min      0.000000    0.000000    0.000000    0.000000    0.000000    0.000000   \n",
       "25%      0.000000    1.000000    0.000000    1.000000    0.000000    1.000000   \n",
       "50%      0.000000    1.000000    0.000000    1.000000    0.000000    1.000000   \n",
       "75%      0.000000    1.000000    0.000000    1.000000    0.000000    1.000000   \n",
       "max      1.000000    1.000000    1.000000    1.000000    1.000000    1.000000   \n",
       "\n",
       "           pe_yes      ane_no     ane_yes  \n",
       "count  158.000000  158.000000  158.000000  \n",
       "mean     0.126582    0.898734    0.101266  \n",
       "std      0.333562    0.302640    0.302640  \n",
       "min      0.000000    0.000000    0.000000  \n",
       "25%      0.000000    1.000000    0.000000  \n",
       "50%      0.000000    1.000000    0.000000  \n",
       "75%      0.000000    1.000000    0.000000  \n",
       "max      1.000000    1.000000    1.000000  \n",
       "\n",
       "[8 rows x 34 columns]"
      ]
     },
     "execution_count": 16,
     "metadata": {},
     "output_type": "execute_result"
    }
   ],
   "source": [
    "Zall.describe()"
   ]
  },
  {
   "cell_type": "code",
   "execution_count": 17,
   "metadata": {
    "collapsed": true
   },
   "outputs": [],
   "source": [
    "# normalize the data before PCA\n",
    "Z0 = pre.StandardScaler().fit_transform(Zall)\n",
    "Z0 = pd.DataFrame(Z0, columns = Zall.columns)"
   ]
  },
  {
   "cell_type": "code",
   "execution_count": 18,
   "metadata": {
    "collapsed": true
   },
   "outputs": [],
   "source": [
    "# PCA on all features\n",
    "Nfeature = len(Z0.columns.values)\n",
    "pca = PCA(n_components = Nfeature, svd_solver = 'full')\n",
    "Z2pca = pca.fit(Z0)\n",
    "PCA(copy = True, n_components = Nfeature, whiten = False)\n",
    "Z2 = pca.transform(Z0)"
   ]
  },
  {
   "cell_type": "code",
   "execution_count": 19,
   "metadata": {},
   "outputs": [
    {
     "name": "stdout",
     "output_type": "stream",
     "text": [
      "[  4.65481911e-01   8.26940513e-02   6.23025417e-02   5.97571730e-02\n",
      "   4.67567414e-02   4.11606856e-02   3.03372009e-02   2.89629419e-02\n",
      "   2.42238797e-02   2.23484065e-02   2.01504089e-02   1.82036166e-02\n",
      "   1.51209893e-02   1.37789885e-02   1.24780541e-02   1.06508425e-02\n",
      "   9.67126569e-03   8.22799367e-03   7.48573644e-03   5.81285357e-03\n",
      "   4.29442531e-03   4.02552940e-03   3.85248878e-03   2.22127451e-03\n",
      "   3.76274209e-33   3.76274209e-33   3.76274209e-33   3.76274209e-33\n",
      "   3.76274209e-33   3.76274209e-33   3.76274209e-33   3.76274209e-33\n",
      "   3.76274209e-33   3.76274209e-33]\n"
     ]
    },
    {
     "data": {
      "image/png": "[encoded data removed]",
      "text/plain": [
       "<matplotlib.figure.Figure at 0x11b934048>"
      ]
     },
     "metadata": {},
     "output_type": "display_data"
    }
   ],
   "source": [
    "# explore how many PA to keep\n",
    "print(Z2pca.explained_variance_ratio_)\n",
    "# scree plot\n",
    "x_PC = np.arange(1,Nfeature+1,1)\n",
    "plt.plot(x_PC, Z2pca.explained_variance_ratio_)\n",
    "plt.show()"
   ]
  },
  {
   "cell_type": "code",
   "execution_count": 26,
   "metadata": {},
   "outputs": [
    {
     "data": {
      "image/png": "[encoded data removed]",
      "text/plain": [
       "<matplotlib.figure.Figure at 0x120f7f978>"
      ]
     },
     "metadata": {},
     "output_type": "display_data"
    }
   ],
   "source": [
    "# view the features in 2 PC space\n",
    "\n",
    "# express the features in terms of PC & estimate the strongest features\n",
    "x = Z2pca.components_[0] * max(Z2[:,0])\n",
    "y = Z2pca.components_[1] * max(Z2[:,1])\n",
    "# plot\n",
    "ax = plt.axes()\n",
    "for i in range(Nfeature):\n",
    "    ax.arrow(0, 0, x[i], y[i], color = 'b', head_width = 0.05, head_length = 0.1)\n",
    "    plt.text(x[i]*1.2, y[i]*1.2, Z0.columns.values[i], color = 'b', alpha = 0.75)\n",
    "plt.axis([-4,4,-2.5,4.5])\n",
    "#plt.axis([0,4,-2.5,0.5])\n",
    "#plt.axis([-4, -1, -1.5, 2])\n",
    "\n",
    "# show the transformed samples in the PC frame\n",
    "Z2plot = pd.DataFrame(Z2[:,0:2])\n",
    "Z2plot.columns = ['component 1', 'component 2']\n",
    "Z2plot.plot.scatter(x = 'component 1', y = 'component 2', marker = 'o', c = labels, alpha = 0.75, ax = ax)\n",
    "plt.show()"
   ]
  },
  {
   "cell_type": "code",
   "execution_count": null,
   "metadata": {
    "collapsed": true
   },
   "outputs": [],
   "source": []
  }
 ],
 "metadata": {
  "kernelspec": {
   "display_name": "Python 3",
   "language": "python",
   "name": "python3"
  },
  "language_info": {
   "codemirror_mode": {
    "name": "ipython",
    "version": 3
   },
   "file_extension": ".py",
   "mimetype": "text/x-python",
   "name": "python",
   "nbconvert_exporter": "python",
   "pygments_lexer": "ipython3",
   "version": "3.6.0"
  }
 },
 "nbformat": 4,
 "nbformat_minor": 2
}
