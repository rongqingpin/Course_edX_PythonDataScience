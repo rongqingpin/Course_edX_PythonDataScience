{
 "cells": [
  {
   "cell_type": "code",
   "execution_count": 1,
   "metadata": {
    "collapsed": true
   },
   "outputs": [],
   "source": [
    "import pandas as pd\n",
    "from sklearn.decomposition import PCA\n",
    "import matplotlib.pyplot as plt"
   ]
  },
  {
   "cell_type": "code",
   "execution_count": 2,
   "metadata": {
    "collapsed": true
   },
   "outputs": [],
   "source": [
    "# load data\n",
    "fname = '/Users/pinqingkan/OneDrive/JobSearch/DataScience/PythonDataScience/DAT210x-master/Cached Datasets/students.data'\n",
    "X = pd.read_csv(fname, index_col = 0)"
   ]
  },
  {
   "cell_type": "code",
   "execution_count": 3,
   "metadata": {
    "collapsed": true
   },
   "outputs": [],
   "source": [
    "nD0 = X.shape[1]"
   ]
  },
  {
   "cell_type": "code",
   "execution_count": 4,
   "metadata": {
    "collapsed": true
   },
   "outputs": [],
   "source": [
    "# PCA\n",
    "# first explore how many components to keep\n",
    "pca = PCA(n_components = nD0, svd_solver = 'full')\n",
    "pca.fit(X)\n",
    "PCA(copy = True, n_components = nD0, whiten = False)\n",
    "Y = pca.transform(X) # these are the scores for each PC"
   ]
  },
  {
   "cell_type": "code",
   "execution_count": 5,
   "metadata": {},
   "outputs": [
    {
     "name": "stdout",
     "output_type": "stream",
     "text": [
      "[ 0.41632237  0.31282008  0.04103016  0.03361756  0.03028358  0.02477743\n",
      "  0.02127417  0.0205224   0.01305745  0.01189288  0.010279    0.009629\n",
      "  0.00847107  0.00700516  0.00592958  0.00427588  0.00396825  0.00382529\n",
      "  0.00334192  0.00325152  0.00280242  0.00249016  0.00227829  0.00220688\n",
      "  0.00137787  0.00133166  0.00111621  0.00082173]\n"
     ]
    },
    {
     "data": {
      "image/png": "[encoded data removed]",
      "text/plain": [
       "<matplotlib.figure.Figure at 0x11b885128>"
      ]
     },
     "metadata": {},
     "output_type": "display_data"
    },
    {
     "name": "stdout",
     "output_type": "stream",
     "text": [
      "0.770172621451\n"
     ]
    }
   ],
   "source": [
    "lamda = pca.explained_variance_ratio_\n",
    "print(lamda)\n",
    "plt.plot(lamda)\n",
    "plt.show()\n",
    "print(sum(lamda[0:3]))"
   ]
  },
  {
   "cell_type": "code",
   "execution_count": 6,
   "metadata": {
    "collapsed": true
   },
   "outputs": [],
   "source": [
    "X2 = pca.inverse_transform(Y)"
   ]
  },
  {
   "cell_type": "code",
   "execution_count": 7,
   "metadata": {},
   "outputs": [
    {
     "data": {
      "text/plain": [
       "array([[  1.00000000e+00,   1.80000000e+01,  -5.55111512e-17, ...,\n",
       "          7.10542736e-15,   1.10000000e+01,   1.10000000e+01],\n",
       "       [  1.00000000e+00,   1.70000000e+01,   1.60982339e-15, ...,\n",
       "          9.00000000e+00,   1.10000000e+01,   1.10000000e+01],\n",
       "       [  1.00000000e+00,   1.50000000e+01,   4.99600361e-16, ...,\n",
       "          1.20000000e+01,   1.30000000e+01,   1.20000000e+01],\n",
       "       ..., \n",
       "       [  1.00000000e+00,   1.80000000e+01,   1.05471187e-15, ...,\n",
       "          1.10000000e+01,   1.20000000e+01,   9.00000000e+00],\n",
       "       [  0.00000000e+00,   1.70000000e+01,   8.32667268e-16, ...,\n",
       "          1.00000000e+01,   1.00000000e+01,   1.00000000e+01],\n",
       "       [ -7.77156117e-16,   1.80000000e+01,   1.00000000e+00, ...,\n",
       "          1.00000000e+01,   1.10000000e+01,   1.10000000e+01]])"
      ]
     },
     "execution_count": 7,
     "metadata": {},
     "output_type": "execute_result"
    }
   ],
   "source": [
    "X2"
   ]
  },
  {
   "cell_type": "code",
   "execution_count": 8,
   "metadata": {},
   "outputs": [
    {
     "data": {
      "text/plain": [
       "(649, 28)"
      ]
     },
     "execution_count": 8,
     "metadata": {},
     "output_type": "execute_result"
    }
   ],
   "source": [
    "Y.shape"
   ]
  },
  {
   "cell_type": "code",
   "execution_count": null,
   "metadata": {
    "collapsed": true
   },
   "outputs": [],
   "source": []
  }
 ],
 "metadata": {
  "kernelspec": {
   "display_name": "Python 3",
   "language": "python",
   "name": "python3"
  },
  "language_info": {
   "codemirror_mode": {
    "name": "ipython",
    "version": 3
   },
   "file_extension": ".py",
   "mimetype": "text/x-python",
   "name": "python",
   "nbconvert_exporter": "python",
   "pygments_lexer": "ipython3",
   "version": "3.6.0"
  }
 },
 "nbformat": 4,
 "nbformat_minor": 2
}
