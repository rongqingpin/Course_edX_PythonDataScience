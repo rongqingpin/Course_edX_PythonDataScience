{
 "cells": [
  {
   "cell_type": "code",
   "execution_count": null,
   "metadata": {
    "collapsed": true
   },
   "outputs": [],
   "source": [
    "# https://github.com/pandas-dev/pandas/blob/e5c18b4383bd49b7a6f42f9e3c299c8746b5a347/pandas/tools/plotting.py#L518"
   ]
  },
  {
   "cell_type": "code",
   "execution_count": null,
   "metadata": {
    "collapsed": true
   },
   "outputs": [],
   "source": [
    "def andrews_curves(frame, class_column, ax=None, samples=200, color=None,\n",
    "                   colormap=None, **kwds):\n",
    "    \"\"\"\n",
    "    Generates a matplotlib plot of Andrews curves, for visualising clusters of\n",
    "    multivariate data.\n",
    "    Andrews curves have the functional form:\n",
    "    f(t) = x_1/sqrt(2) + x_2 sin(t) + x_3 cos(t) +\n",
    "           x_4 sin(2t) + x_5 cos(2t) + ...\n",
    "    Where x coefficients correspond to the values of each dimension and t is\n",
    "    linearly spaced between -pi and +pi. Each row of frame then corresponds to\n",
    "    a single curve.\n",
    "    Parameters:\n",
    "    -----------\n",
    "    frame : DataFrame\n",
    "        Data to be plotted, preferably normalized to (0.0, 1.0)\n",
    "    class_column : Name of the column containing class names\n",
    "    ax : matplotlib axes object, default None\n",
    "    samples : Number of points to plot in each curve\n",
    "    color: list or tuple, optional\n",
    "        Colors to use for the different classes\n",
    "    colormap : str or matplotlib colormap object, default None\n",
    "        Colormap to select colors from. If string, load colormap with that name\n",
    "        from matplotlib.\n",
    "    kwds: keywords\n",
    "        Options to pass to matplotlib plotting method\n",
    "    Returns:\n",
    "    --------\n",
    "    ax: Matplotlib axis object\n",
    "    \"\"\"\n",
    "    from math import sqrt, pi\n",
    "    import matplotlib.pyplot as plt\n",
    "\n",
    "    def function(amplitudes):\n",
    "        def f(t):\n",
    "            x1 = amplitudes[0]\n",
    "            result = x1 / sqrt(2.0)\n",
    "\n",
    "            # Take the rest of the coefficients and resize them\n",
    "            # appropriately. Take a copy of amplitudes as otherwise numpy\n",
    "            # deletes the element from amplitudes itself.\n",
    "            coeffs = np.delete(np.copy(amplitudes), 0)\n",
    "            coeffs.resize(int((coeffs.size + 1) / 2), 2)\n",
    "\n",
    "            # Generate the harmonics and arguments for the sin and cos\n",
    "            # functions.\n",
    "            harmonics = np.arange(0, coeffs.shape[0]) + 1\n",
    "            trig_args = np.outer(harmonics, t)\n",
    "\n",
    "            result += np.sum(coeffs[:, 0, np.newaxis] * np.sin(trig_args) +\n",
    "                             coeffs[:, 1, np.newaxis] * np.cos(trig_args),\n",
    "                             axis=0)\n",
    "            return result\n",
    "        return f\n",
    "\n",
    "    n = len(frame)\n",
    "    class_col = frame[class_column]\n",
    "    classes = frame[class_column].drop_duplicates()\n",
    "    df = frame.drop(class_column, axis=1)\n",
    "    t = np.linspace(-pi, pi, samples)\n",
    "    used_legends = set([])\n",
    "\n",
    "    color_values = _get_standard_colors(num_colors=len(classes),\n",
    "                                        colormap=colormap, color_type='random',\n",
    "                                        color=color)\n",
    "    colors = dict(zip(classes, color_values))\n",
    "    if ax is None:\n",
    "        ax = plt.gca(xlim=(-pi, pi))\n",
    "    for i in range(n):\n",
    "        row = df.iloc[i].values\n",
    "        f = function(row)\n",
    "        y = f(t)\n",
    "        kls = class_col.iat[i]\n",
    "        label = pprint_thing(kls)\n",
    "        if label not in used_legends:\n",
    "            used_legends.add(label)\n",
    "            ax.plot(t, y, color=colors[kls], label=label, **kwds)\n",
    "        else:\n",
    "            ax.plot(t, y, color=colors[kls], **kwds)\n",
    "\n",
    "    ax.legend(loc='upper right')\n",
    "    ax.grid()\n",
    "    return ax"
   ]
  }
 ],
 "metadata": {
  "kernelspec": {
   "display_name": "Python 3",
   "language": "python",
   "name": "python3"
  },
  "language_info": {
   "codemirror_mode": {
    "name": "ipython",
    "version": 3
   },
   "file_extension": ".py",
   "mimetype": "text/x-python",
   "name": "python",
   "nbconvert_exporter": "python",
   "pygments_lexer": "ipython3",
   "version": "3.6.0"
  }
 },
 "nbformat": 4,
 "nbformat_minor": 2
}
