{
 "cells": [
  {
   "cell_type": "code",
   "execution_count": 1,
   "metadata": {
    "collapsed": true
   },
   "outputs": [],
   "source": [
    "import pandas as pd\n",
    "import matplotlib.pyplot as plt"
   ]
  },
  {
   "cell_type": "code",
   "execution_count": 2,
   "metadata": {
    "collapsed": true
   },
   "outputs": [],
   "source": [
    "# load the data\n",
    "fname = '/Users/pinqingkan/OneDrive/JobSearch/DataScience/PythonDataScience/DAT210x-master/Module3/Datasets/wheat.data'\n",
    "X = pd.read_csv(fname, index_col = 0)"
   ]
  },
  {
   "cell_type": "code",
   "execution_count": 6,
   "metadata": {},
   "outputs": [
    {
     "data": {
      "text/plain": [
       "Index(['area', 'perimeter', 'compactness', 'length', 'width', 'asymmetry',\n",
       "       'groove', 'wheat_type'],\n",
       "      dtype='object')"
      ]
     },
     "execution_count": 6,
     "metadata": {},
     "output_type": "execute_result"
    }
   ],
   "source": [
    "Z = X.columns\n",
    "Z"
   ]
  },
  {
   "cell_type": "code",
   "execution_count": 4,
   "metadata": {
    "collapsed": true
   },
   "outputs": [],
   "source": [
    "# calculate correlation\n",
    "Y = X.corr()"
   ]
  },
  {
   "cell_type": "code",
   "execution_count": 5,
   "metadata": {
    "scrolled": true
   },
   "outputs": [
    {
     "data": {
      "text/html": [
       "<div>\n",
       "<table border=\"1\" class=\"dataframe\">\n",
       "  <thead>\n",
       "    <tr style=\"text-align: right;\">\n",
       "      <th></th>\n",
       "      <th>area</th>\n",
       "      <th>perimeter</th>\n",
       "      <th>compactness</th>\n",
       "      <th>length</th>\n",
       "      <th>width</th>\n",
       "      <th>asymmetry</th>\n",
       "      <th>groove</th>\n",
       "    </tr>\n",
       "  </thead>\n",
       "  <tbody>\n",
       "    <tr>\n",
       "      <th>area</th>\n",
       "      <td>1.000000</td>\n",
       "      <td>0.994341</td>\n",
       "      <td>0.600312</td>\n",
       "      <td>0.645418</td>\n",
       "      <td>0.801616</td>\n",
       "      <td>-0.205876</td>\n",
       "      <td>0.786096</td>\n",
       "    </tr>\n",
       "    <tr>\n",
       "      <th>perimeter</th>\n",
       "      <td>0.994341</td>\n",
       "      <td>1.000000</td>\n",
       "      <td>0.520544</td>\n",
       "      <td>0.657490</td>\n",
       "      <td>0.783188</td>\n",
       "      <td>-0.196360</td>\n",
       "      <td>0.813256</td>\n",
       "    </tr>\n",
       "    <tr>\n",
       "      <th>compactness</th>\n",
       "      <td>0.600312</td>\n",
       "      <td>0.520544</td>\n",
       "      <td>1.000000</td>\n",
       "      <td>0.360060</td>\n",
       "      <td>0.756165</td>\n",
       "      <td>-0.315668</td>\n",
       "      <td>0.236184</td>\n",
       "    </tr>\n",
       "    <tr>\n",
       "      <th>length</th>\n",
       "      <td>0.645418</td>\n",
       "      <td>0.657490</td>\n",
       "      <td>0.360060</td>\n",
       "      <td>1.000000</td>\n",
       "      <td>0.197228</td>\n",
       "      <td>-0.102325</td>\n",
       "      <td>0.669887</td>\n",
       "    </tr>\n",
       "    <tr>\n",
       "      <th>width</th>\n",
       "      <td>0.801616</td>\n",
       "      <td>0.783188</td>\n",
       "      <td>0.756165</td>\n",
       "      <td>0.197228</td>\n",
       "      <td>1.000000</td>\n",
       "      <td>-0.249378</td>\n",
       "      <td>0.619865</td>\n",
       "    </tr>\n",
       "    <tr>\n",
       "      <th>asymmetry</th>\n",
       "      <td>-0.205876</td>\n",
       "      <td>-0.196360</td>\n",
       "      <td>-0.315668</td>\n",
       "      <td>-0.102325</td>\n",
       "      <td>-0.249378</td>\n",
       "      <td>1.000000</td>\n",
       "      <td>-0.039248</td>\n",
       "    </tr>\n",
       "    <tr>\n",
       "      <th>groove</th>\n",
       "      <td>0.786096</td>\n",
       "      <td>0.813256</td>\n",
       "      <td>0.236184</td>\n",
       "      <td>0.669887</td>\n",
       "      <td>0.619865</td>\n",
       "      <td>-0.039248</td>\n",
       "      <td>1.000000</td>\n",
       "    </tr>\n",
       "  </tbody>\n",
       "</table>\n",
       "</div>"
      ],
      "text/plain": [
       "                 area  perimeter  compactness    length     width  asymmetry  \\\n",
       "area         1.000000   0.994341     0.600312  0.645418  0.801616  -0.205876   \n",
       "perimeter    0.994341   1.000000     0.520544  0.657490  0.783188  -0.196360   \n",
       "compactness  0.600312   0.520544     1.000000  0.360060  0.756165  -0.315668   \n",
       "length       0.645418   0.657490     0.360060  1.000000  0.197228  -0.102325   \n",
       "width        0.801616   0.783188     0.756165  0.197228  1.000000  -0.249378   \n",
       "asymmetry   -0.205876  -0.196360    -0.315668 -0.102325 -0.249378   1.000000   \n",
       "groove       0.786096   0.813256     0.236184  0.669887  0.619865  -0.039248   \n",
       "\n",
       "               groove  \n",
       "area         0.786096  \n",
       "perimeter    0.813256  \n",
       "compactness  0.236184  \n",
       "length       0.669887  \n",
       "width        0.619865  \n",
       "asymmetry   -0.039248  \n",
       "groove       1.000000  "
      ]
     },
     "execution_count": 5,
     "metadata": {},
     "output_type": "execute_result"
    }
   ],
   "source": [
    "Y"
   ]
  },
  {
   "cell_type": "code",
   "execution_count": 17,
   "metadata": {},
   "outputs": [
    {
     "data": {
      "image/png": "[encoded data removed]",
      "text/plain": [
       "<matplotlib.figure.Figure at 0x115ed56a0>"
      ]
     },
     "metadata": {},
     "output_type": "display_data"
    }
   ],
   "source": [
    "plt.imshow(Y, cmap = 'bwr', vmin = -.8, vmax = .8)\n",
    "#ticks = [i for i in range(len(Y.columns))]\n",
    "#plt.xticks(ticks, Y.columns)\n",
    "plt.colorbar()\n",
    "plt.show()"
   ]
  },
  {
   "cell_type": "code",
   "execution_count": null,
   "metadata": {
    "collapsed": true
   },
   "outputs": [],
   "source": []
  }
 ],
 "metadata": {
  "kernelspec": {
   "display_name": "Python 3",
   "language": "python",
   "name": "python3"
  },
  "language_info": {
   "codemirror_mode": {
    "name": "ipython",
    "version": 3
   },
   "file_extension": ".py",
   "mimetype": "text/x-python",
   "name": "python",
   "nbconvert_exporter": "python",
   "pygments_lexer": "ipython3",
   "version": "3.6.0"
  }
 },
 "nbformat": 4,
 "nbformat_minor": 2
}
