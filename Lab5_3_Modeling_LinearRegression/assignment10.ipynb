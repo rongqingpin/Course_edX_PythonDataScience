{
 "cells": [
  {
   "cell_type": "markdown",
   "metadata": {},
   "source": [
    "#### Linear Regression on some [audio files](https://github.com/Jakobovski/free-spoken-digit-dataset/tree/master/recordings)\n",
    "* 50 recordings (samples) of pronouncing zero\n",
    "* use the first x% of the samples to predict the rest of the pronunciation\n",
    "* the predicted pronunciation sounds very similar to zero, although the prediction score is extremely low"
   ]
  },
  {
   "cell_type": "code",
   "execution_count": 1,
   "metadata": {
    "collapsed": true
   },
   "outputs": [],
   "source": [
    "import numpy as np\n",
    "import pandas as pd\n",
    "from sklearn.linear_model import LinearRegression\n",
    "import scipy.io.wavfile as wavfile"
   ]
  },
  {
   "cell_type": "code",
   "execution_count": 2,
   "metadata": {
    "collapsed": true,
    "scrolled": true
   },
   "outputs": [],
   "source": [
    "# load the data\n",
    "flc = '/Users/pinqingkan/Downloads/free-spoken-digit-dataset-master/recordings/'\n",
    "zero = []\n",
    "for ifile in range(50):\n",
    "    fname = flc + '0_jackson_' + str(ifile) + '.wav'\n",
    "    rate, data = wavfile.read(fname)\n",
    "    zero.append(data)"
   ]
  },
  {
   "cell_type": "code",
   "execution_count": 3,
   "metadata": {
    "collapsed": true,
    "scrolled": true
   },
   "outputs": [],
   "source": [
    "# convert to a dataframe\n",
    "X = pd.DataFrame(zero, dtype = np.int16)\n",
    "X = X.dropna(axis = 1)\n",
    "n_audio_samples = X.shape[1]\n",
    "# convert back into an array\n",
    "zero = X.values"
   ]
  },
  {
   "cell_type": "code",
   "execution_count": 4,
   "metadata": {
    "collapsed": true
   },
   "outputs": [],
   "source": [
    "# slice one sample for test purpose later\n",
    "from sklearn.utils.validation import check_random_state\n",
    "rng = check_random_state(7) # fix for repeatable results\n",
    "random_idx = rng.randint(zero.shape[0]) # less than 50\n",
    "test = zero[random_idx]\n",
    "train = np.delete(zero, [random_idx], axis=0)\n",
    "\n",
    "# save the test for comparison\n",
    "flc2 = '/Users/pinqingkan/Desktop/DataScience/PythonDataScience/DAT210x-master/Module5/Datasets/'\n",
    "fname = flc2 + 'Original Test Clip.wav'\n",
    "wavfile.write(fname, rate, test)"
   ]
  },
  {
   "cell_type": "code",
   "execution_count": 5,
   "metadata": {
    "collapsed": true
   },
   "outputs": [],
   "source": [
    "# portions to keep; remaining to be predicted through regression\n",
    "Provided_Portion = 0.25"
   ]
  },
  {
   "cell_type": "code",
   "execution_count": 6,
   "metadata": {
    "collapsed": true
   },
   "outputs": [],
   "source": [
    "# separate the data into training & testing data\n",
    "X_train = train[:, :int(Provided_Portion*n_audio_samples)]\n",
    "Y_train = train[:, int(Provided_Portion*n_audio_samples):]\n",
    "X_test = test[:int(Provided_Portion*n_audio_samples)]\n",
    "Y_test = test[int(Provided_Portion*n_audio_samples):]"
   ]
  },
  {
   "cell_type": "code",
   "execution_count": 7,
   "metadata": {
    "collapsed": true
   },
   "outputs": [],
   "source": [
    "# convert the data to the right type, as required by linear regression\n",
    "X_test = X_test.reshape(1,-1)\n",
    "Y_test = Y_test.reshape(1,-1)"
   ]
  },
  {
   "cell_type": "code",
   "execution_count": 8,
   "metadata": {},
   "outputs": [
    {
     "name": "stdout",
     "output_type": "stream",
     "text": [
      "score:  0.0\n"
     ]
    }
   ],
   "source": [
    "# linear regression on the training data\n",
    "model = LinearRegression(fit_intercept = True)\n",
    "model.fit(X_train, Y_train)\n",
    "Y_test2 = model.predict(X_test)\n",
    "Y_test2 = Y_test2.astype(dtype = np.int16)\n",
    "print('score: ', model.score(X_test, Y_test))"
   ]
  },
  {
   "cell_type": "code",
   "execution_count": 9,
   "metadata": {
    "collapsed": true
   },
   "outputs": [],
   "source": [
    "# combine the testing data with prediction and save\n",
    "new_clip = np.hstack((X_test, Y_test2))\n",
    "flc2 = '/Users/pinqingkan/Desktop/DataScience/PythonDataScience/DAT210x-master/Module5/Datasets/'\n",
    "fname = flc2 + 'New Test Clip.wav'\n",
    "wavfile.write(fname, rate, new_clip[0])"
   ]
  },
  {
   "cell_type": "code",
   "execution_count": 10,
   "metadata": {},
   "outputs": [
    {
     "data": {
      "text/plain": [
       "array([[-3697, -2611,  -950, ...,   365,   -91,  -482]], dtype=int16)"
      ]
     },
     "execution_count": 10,
     "metadata": {},
     "output_type": "execute_result"
    }
   ],
   "source": [
    "Y_test2"
   ]
  },
  {
   "cell_type": "code",
   "execution_count": 11,
   "metadata": {},
   "outputs": [
    {
     "data": {
      "text/plain": [
       "array([[-3306, -1833,  -893, ...,  1433,  1616,  1427]], dtype=int16)"
      ]
     },
     "execution_count": 11,
     "metadata": {},
     "output_type": "execute_result"
    }
   ],
   "source": [
    "Y_test"
   ]
  },
  {
   "cell_type": "code",
   "execution_count": null,
   "metadata": {
    "collapsed": true
   },
   "outputs": [],
   "source": []
  }
 ],
 "metadata": {
  "kernelspec": {
   "display_name": "Python 3",
   "language": "python",
   "name": "python3"
  },
  "language_info": {
   "codemirror_mode": {
    "name": "ipython",
    "version": 3
   },
   "file_extension": ".py",
   "mimetype": "text/x-python",
   "name": "python",
   "nbconvert_exporter": "python",
   "pygments_lexer": "ipython3",
   "version": "3.6.1"
  }
 },
 "nbformat": 4,
 "nbformat_minor": 2
}
