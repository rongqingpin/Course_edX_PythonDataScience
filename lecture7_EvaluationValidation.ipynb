{
 "cells": [
  {
   "cell_type": "markdown",
   "metadata": {},
   "source": [
    "### Confusion matrix"
   ]
  },
  {
   "cell_type": "code",
   "execution_count": 1,
   "metadata": {
    "collapsed": true
   },
   "outputs": [],
   "source": [
    "import sklearn.metrics as metrics\n",
    "import matplotlib.pyplot as plt"
   ]
  },
  {
   "cell_type": "code",
   "execution_count": 2,
   "metadata": {
    "collapsed": true
   },
   "outputs": [],
   "source": [
    "# samples of actual labels & predictions\n",
    "Y = [1, 1, 2, 2, 3, 3]\n",
    "Y2 = [1, 1, 1, 3, 2, 3]"
   ]
  },
  {
   "cell_type": "code",
   "execution_count": 3,
   "metadata": {
    "collapsed": true
   },
   "outputs": [],
   "source": [
    "# confusion matrix\n",
    "confusion = metrics.confusion_matrix(Y, Y2)"
   ]
  },
  {
   "cell_type": "code",
   "execution_count": 4,
   "metadata": {
    "scrolled": true
   },
   "outputs": [
    {
     "data": {
      "image/png": "[encoded data removed]",
      "text/plain": [
       "<matplotlib.figure.Figure at 0x10b06b048>"
      ]
     },
     "metadata": {},
     "output_type": "display_data"
    }
   ],
   "source": [
    "# show the confusion matrix\n",
    "plt.imshow(confusion, cmap = plt.cm.Blues)\n",
    "columns = ['Cat', 'Dog', 'Monkey']\n",
    "plt.xticks([0, 1, 2], columns, rotation = 'vertical')\n",
    "plt.yticks([0, 1, 2], columns)\n",
    "plt.colorbar()\n",
    "plt.show()"
   ]
  },
  {
   "cell_type": "markdown",
   "metadata": {},
   "source": [
    "### scores\n",
    "* score, recall ~, precision ~, F1 ~\n",
    "* score report"
   ]
  },
  {
   "cell_type": "code",
   "execution_count": 5,
   "metadata": {},
   "outputs": [
    {
     "name": "stdout",
     "output_type": "stream",
     "text": [
      "score:  0.5\n",
      "recall score:  0.5\n",
      "['Cat', 'Dog', 'Monkey']\n",
      "[ 1.   0.   0.5]\n",
      "precision score:  0.388888888889\n",
      "['Cat', 'Dog', 'Monkey']\n",
      "[ 0.66666667  0.          0.5       ]\n",
      "F1 score:  0.433333333333\n",
      "['Cat', 'Dog', 'Monkey']\n",
      "[ 0.8  0.   0.5]\n"
     ]
    }
   ],
   "source": [
    "# scores\n",
    "\n",
    "# this is the same as model.score\n",
    "print('score: ', metrics.accuracy_score(Y, Y2))\n",
    "\n",
    "# true-positive / (true-positive + false-negative)\n",
    "print('recall score: ', metrics.recall_score(Y, Y2, average = 'weighted'))\n",
    "print(columns)\n",
    "print(metrics.recall_score(Y, Y2, average = None))\n",
    "\n",
    "# true-positive / (true-positive + false-positive)\n",
    "print('precision score: ', metrics.precision_score(Y, Y2, average = 'weighted'))\n",
    "print(columns)\n",
    "print(metrics.precision_score(Y, Y2, average = None))\n",
    "\n",
    "# F1 score [0, 1] = 2 * precision * recall / (precision + recall)\n",
    "print('F1 score: ', metrics.f1_score(Y, Y2, average = 'weighted'))\n",
    "print(columns)\n",
    "print(metrics.f1_score(Y, Y2, average = None))"
   ]
  },
  {
   "cell_type": "code",
   "execution_count": 6,
   "metadata": {},
   "outputs": [
    {
     "name": "stdout",
     "output_type": "stream",
     "text": [
      "             precision    recall  f1-score   support\n",
      "\n",
      "        Cat       0.67      1.00      0.80         2\n",
      "        Dog       0.00      0.00      0.00         2\n",
      "     Monkey       0.50      0.50      0.50         2\n",
      "\n",
      "avg / total       0.39      0.50      0.43         6\n",
      "\n"
     ]
    }
   ],
   "source": [
    "# score report\n",
    "print(metrics.classification_report(Y, Y2, target_names = columns))"
   ]
  },
  {
   "cell_type": "markdown",
   "metadata": {},
   "source": [
    "### Scikit-learn [cross validation](http://scikit-learn.org/stable/modules/generated/sklearn.model_selection.cross_val_score.html#sklearn.model_selection.cross_val_score) & [link](http://scikit-learn.org/stable/modules/cross_validation.html#cross-validation-iterators) & [link](http://scikit-learn.org/stable/modules/cross_validation.html)"
   ]
  },
  {
   "cell_type": "code",
   "execution_count": 7,
   "metadata": {
    "collapsed": true
   },
   "outputs": [],
   "source": [
    "from sklearn.model_selection import cross_val_score"
   ]
  },
  {
   "cell_type": "code",
   "execution_count": 8,
   "metadata": {
    "collapsed": true
   },
   "outputs": [],
   "source": [
    "from sklearn import datasets, linear_model\n",
    "diabetes = datasets.load_diabetes()\n",
    "X = diabetes.data[:150]\n",
    "y = diabetes.target[:150]\n",
    "model = linear_model.Lasso()"
   ]
  },
  {
   "cell_type": "code",
   "execution_count": 9,
   "metadata": {},
   "outputs": [
    {
     "data": {
      "text/plain": [
       "array([ 0.33150734,  0.08022311,  0.03531764])"
      ]
     },
     "execution_count": 9,
     "metadata": {},
     "output_type": "execute_result"
    }
   ],
   "source": [
    "cross_val_score(model, X, y, cv = 3)"
   ]
  },
  {
   "cell_type": "code",
   "execution_count": null,
   "metadata": {
    "collapsed": true
   },
   "outputs": [],
   "source": []
  }
 ],
 "metadata": {
  "kernelspec": {
   "display_name": "Python 3",
   "language": "python",
   "name": "python3"
  },
  "language_info": {
   "codemirror_mode": {
    "name": "ipython",
    "version": 3
   },
   "file_extension": ".py",
   "mimetype": "text/x-python",
   "name": "python",
   "nbconvert_exporter": "python",
   "pygments_lexer": "ipython3",
   "version": "3.6.0"
  }
 },
 "nbformat": 4,
 "nbformat_minor": 2
}
