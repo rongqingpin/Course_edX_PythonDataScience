{
 "cells": [
  {
   "cell_type": "markdown",
   "metadata": {},
   "source": [
    "#### Random Forest classification on [Human Activity Dataset](http://groupware.les.inf.puc-rio.br/har#dataset)\n",
    "* predict the activity type"
   ]
  },
  {
   "cell_type": "code",
   "execution_count": 1,
   "metadata": {
    "collapsed": true
   },
   "outputs": [],
   "source": [
    "import pandas as pd\n",
    "import time\n",
    "import numpy as np\n",
    "from sklearn.ensemble import RandomForestClassifier\n",
    "from sklearn.model_selection import train_test_split"
   ]
  },
  {
   "cell_type": "code",
   "execution_count": 2,
   "metadata": {
    "collapsed": true
   },
   "outputs": [],
   "source": [
    "# load the dataset\n",
    "flc = '/Users/melanie/Downloads/'\n",
    "#flc = '/Users/pinqingkan/Downloads/'\n",
    "fname = flc + 'dataset-har-PUC-Rio-ugulino.csv'\n",
    "X = pd.read_csv(fname, sep = ';', low_memory = False, decimal = ',')"
   ]
  },
  {
   "cell_type": "code",
   "execution_count": 3,
   "metadata": {
    "collapsed": true
   },
   "outputs": [],
   "source": [
    "# convert gender to numbers\n",
    "X.gender = X.gender.map({'Man': 0, 'Woman':1})"
   ]
  },
  {
   "cell_type": "code",
   "execution_count": 4,
   "metadata": {
    "collapsed": true
   },
   "outputs": [],
   "source": [
    "# force data type conversion (one line is incorrect)\n",
    "# X.z4 = pd.to_numeric(X.z4, errors = 'raise'): this indicates the row 122076 is incorrect\n",
    "X = X.drop([122076], axis = 0)\n",
    "X.z4 = pd.to_numeric(X.z4, errors = 'raise')"
   ]
  },
  {
   "cell_type": "code",
   "execution_count": 5,
   "metadata": {},
   "outputs": [
    {
     "data": {
      "text/plain": [
       "user                   object\n",
       "gender                  int64\n",
       "age                     int64\n",
       "how_tall_in_meters    float64\n",
       "weight                  int64\n",
       "body_mass_index       float64\n",
       "x1                      int64\n",
       "y1                      int64\n",
       "z1                      int64\n",
       "x2                      int64\n",
       "y2                      int64\n",
       "z2                      int64\n",
       "x3                      int64\n",
       "y3                      int64\n",
       "z3                      int64\n",
       "x4                      int64\n",
       "y4                      int64\n",
       "z4                      int64\n",
       "class                  object\n",
       "dtype: object"
      ]
     },
     "execution_count": 5,
     "metadata": {},
     "output_type": "execute_result"
    }
   ],
   "source": [
    "X.dtypes"
   ]
  },
  {
   "cell_type": "code",
   "execution_count": 6,
   "metadata": {},
   "outputs": [
    {
     "name": "stdout",
     "output_type": "stream",
     "text": [
      "['sitting' 'sittingdown' 'standing' 'standingup' 'walking']\n"
     ]
    }
   ],
   "source": [
    "# separate into labels and data\n",
    "# convert labels to numbers for plotting purpose\n",
    "types = X['class'].unique()\n",
    "print(types)\n",
    "y = X['class']\n",
    "Y = pd.get_dummies(y)\n",
    "#Y = y.map( {types[i]: i for i in range(len(types))} )\n",
    "X = X.drop(labels = ['class', 'user'], axis = 1)"
   ]
  },
  {
   "cell_type": "code",
   "execution_count": 7,
   "metadata": {
    "scrolled": true
   },
   "outputs": [
    {
     "data": {
      "text/html": [
       "<div>\n",
       "<table border=\"1\" class=\"dataframe\">\n",
       "  <thead>\n",
       "    <tr style=\"text-align: right;\">\n",
       "      <th></th>\n",
       "      <th>gender</th>\n",
       "      <th>age</th>\n",
       "      <th>how_tall_in_meters</th>\n",
       "      <th>weight</th>\n",
       "      <th>body_mass_index</th>\n",
       "      <th>x1</th>\n",
       "      <th>y1</th>\n",
       "      <th>z1</th>\n",
       "      <th>x2</th>\n",
       "      <th>y2</th>\n",
       "      <th>z2</th>\n",
       "      <th>x3</th>\n",
       "      <th>y3</th>\n",
       "      <th>z3</th>\n",
       "      <th>x4</th>\n",
       "      <th>y4</th>\n",
       "      <th>z4</th>\n",
       "    </tr>\n",
       "  </thead>\n",
       "  <tbody>\n",
       "    <tr>\n",
       "      <th>count</th>\n",
       "      <td>165632.000000</td>\n",
       "      <td>165632.000000</td>\n",
       "      <td>165632.000000</td>\n",
       "      <td>165632.000000</td>\n",
       "      <td>165632.000000</td>\n",
       "      <td>165632.000000</td>\n",
       "      <td>165632.000000</td>\n",
       "      <td>165632.000000</td>\n",
       "      <td>165632.000000</td>\n",
       "      <td>165632.000000</td>\n",
       "      <td>165632.000000</td>\n",
       "      <td>165632.000000</td>\n",
       "      <td>165632.000000</td>\n",
       "      <td>165632.000000</td>\n",
       "      <td>165632.000000</td>\n",
       "      <td>165632.000000</td>\n",
       "      <td>165632.000000</td>\n",
       "    </tr>\n",
       "    <tr>\n",
       "      <th>mean</th>\n",
       "      <td>0.612044</td>\n",
       "      <td>38.264925</td>\n",
       "      <td>1.639712</td>\n",
       "      <td>70.819431</td>\n",
       "      <td>26.188535</td>\n",
       "      <td>-6.649319</td>\n",
       "      <td>88.293591</td>\n",
       "      <td>-93.164449</td>\n",
       "      <td>-87.827956</td>\n",
       "      <td>-52.065911</td>\n",
       "      <td>-175.055647</td>\n",
       "      <td>17.423517</td>\n",
       "      <td>104.517056</td>\n",
       "      <td>-93.881641</td>\n",
       "      <td>-167.641211</td>\n",
       "      <td>-92.625235</td>\n",
       "      <td>-159.650985</td>\n",
       "    </tr>\n",
       "    <tr>\n",
       "      <th>std</th>\n",
       "      <td>0.487286</td>\n",
       "      <td>13.183821</td>\n",
       "      <td>0.052820</td>\n",
       "      <td>11.296557</td>\n",
       "      <td>2.995781</td>\n",
       "      <td>11.616273</td>\n",
       "      <td>23.895881</td>\n",
       "      <td>39.409487</td>\n",
       "      <td>169.435606</td>\n",
       "      <td>205.160081</td>\n",
       "      <td>192.817111</td>\n",
       "      <td>52.635546</td>\n",
       "      <td>54.155987</td>\n",
       "      <td>45.389770</td>\n",
       "      <td>38.311336</td>\n",
       "      <td>19.968653</td>\n",
       "      <td>13.221020</td>\n",
       "    </tr>\n",
       "    <tr>\n",
       "      <th>min</th>\n",
       "      <td>0.000000</td>\n",
       "      <td>28.000000</td>\n",
       "      <td>1.580000</td>\n",
       "      <td>55.000000</td>\n",
       "      <td>22.000000</td>\n",
       "      <td>-306.000000</td>\n",
       "      <td>-271.000000</td>\n",
       "      <td>-603.000000</td>\n",
       "      <td>-494.000000</td>\n",
       "      <td>-517.000000</td>\n",
       "      <td>-617.000000</td>\n",
       "      <td>-499.000000</td>\n",
       "      <td>-506.000000</td>\n",
       "      <td>-613.000000</td>\n",
       "      <td>-702.000000</td>\n",
       "      <td>-526.000000</td>\n",
       "      <td>-537.000000</td>\n",
       "    </tr>\n",
       "    <tr>\n",
       "      <th>25%</th>\n",
       "      <td>0.000000</td>\n",
       "      <td>28.000000</td>\n",
       "      <td>1.580000</td>\n",
       "      <td>55.000000</td>\n",
       "      <td>22.000000</td>\n",
       "      <td>-12.000000</td>\n",
       "      <td>78.000000</td>\n",
       "      <td>-120.000000</td>\n",
       "      <td>-35.000000</td>\n",
       "      <td>-29.000000</td>\n",
       "      <td>-141.000000</td>\n",
       "      <td>9.000000</td>\n",
       "      <td>95.000000</td>\n",
       "      <td>-103.000000</td>\n",
       "      <td>-190.000000</td>\n",
       "      <td>-103.000000</td>\n",
       "      <td>-167.000000</td>\n",
       "    </tr>\n",
       "    <tr>\n",
       "      <th>50%</th>\n",
       "      <td>1.000000</td>\n",
       "      <td>31.000000</td>\n",
       "      <td>1.620000</td>\n",
       "      <td>75.000000</td>\n",
       "      <td>28.400000</td>\n",
       "      <td>-6.000000</td>\n",
       "      <td>94.000000</td>\n",
       "      <td>-98.000000</td>\n",
       "      <td>-9.000000</td>\n",
       "      <td>27.000000</td>\n",
       "      <td>-118.000000</td>\n",
       "      <td>22.000000</td>\n",
       "      <td>107.000000</td>\n",
       "      <td>-90.000000</td>\n",
       "      <td>-168.000000</td>\n",
       "      <td>-91.000000</td>\n",
       "      <td>-160.000000</td>\n",
       "    </tr>\n",
       "    <tr>\n",
       "      <th>75%</th>\n",
       "      <td>1.000000</td>\n",
       "      <td>46.000000</td>\n",
       "      <td>1.710000</td>\n",
       "      <td>83.000000</td>\n",
       "      <td>28.600000</td>\n",
       "      <td>0.000000</td>\n",
       "      <td>101.000000</td>\n",
       "      <td>-64.000000</td>\n",
       "      <td>4.000000</td>\n",
       "      <td>86.000000</td>\n",
       "      <td>-29.000000</td>\n",
       "      <td>34.000000</td>\n",
       "      <td>120.000000</td>\n",
       "      <td>-80.000000</td>\n",
       "      <td>-153.000000</td>\n",
       "      <td>-80.000000</td>\n",
       "      <td>-153.000000</td>\n",
       "    </tr>\n",
       "    <tr>\n",
       "      <th>max</th>\n",
       "      <td>1.000000</td>\n",
       "      <td>75.000000</td>\n",
       "      <td>1.710000</td>\n",
       "      <td>83.000000</td>\n",
       "      <td>28.600000</td>\n",
       "      <td>509.000000</td>\n",
       "      <td>533.000000</td>\n",
       "      <td>411.000000</td>\n",
       "      <td>473.000000</td>\n",
       "      <td>295.000000</td>\n",
       "      <td>122.000000</td>\n",
       "      <td>507.000000</td>\n",
       "      <td>517.000000</td>\n",
       "      <td>410.000000</td>\n",
       "      <td>-13.000000</td>\n",
       "      <td>86.000000</td>\n",
       "      <td>-43.000000</td>\n",
       "    </tr>\n",
       "  </tbody>\n",
       "</table>\n",
       "</div>"
      ],
      "text/plain": [
       "              gender            age  how_tall_in_meters         weight  \\\n",
       "count  165632.000000  165632.000000       165632.000000  165632.000000   \n",
       "mean        0.612044      38.264925            1.639712      70.819431   \n",
       "std         0.487286      13.183821            0.052820      11.296557   \n",
       "min         0.000000      28.000000            1.580000      55.000000   \n",
       "25%         0.000000      28.000000            1.580000      55.000000   \n",
       "50%         1.000000      31.000000            1.620000      75.000000   \n",
       "75%         1.000000      46.000000            1.710000      83.000000   \n",
       "max         1.000000      75.000000            1.710000      83.000000   \n",
       "\n",
       "       body_mass_index             x1             y1             z1  \\\n",
       "count    165632.000000  165632.000000  165632.000000  165632.000000   \n",
       "mean         26.188535      -6.649319      88.293591     -93.164449   \n",
       "std           2.995781      11.616273      23.895881      39.409487   \n",
       "min          22.000000    -306.000000    -271.000000    -603.000000   \n",
       "25%          22.000000     -12.000000      78.000000    -120.000000   \n",
       "50%          28.400000      -6.000000      94.000000     -98.000000   \n",
       "75%          28.600000       0.000000     101.000000     -64.000000   \n",
       "max          28.600000     509.000000     533.000000     411.000000   \n",
       "\n",
       "                  x2             y2             z2             x3  \\\n",
       "count  165632.000000  165632.000000  165632.000000  165632.000000   \n",
       "mean      -87.827956     -52.065911    -175.055647      17.423517   \n",
       "std       169.435606     205.160081     192.817111      52.635546   \n",
       "min      -494.000000    -517.000000    -617.000000    -499.000000   \n",
       "25%       -35.000000     -29.000000    -141.000000       9.000000   \n",
       "50%        -9.000000      27.000000    -118.000000      22.000000   \n",
       "75%         4.000000      86.000000     -29.000000      34.000000   \n",
       "max       473.000000     295.000000     122.000000     507.000000   \n",
       "\n",
       "                  y3             z3             x4             y4  \\\n",
       "count  165632.000000  165632.000000  165632.000000  165632.000000   \n",
       "mean      104.517056     -93.881641    -167.641211     -92.625235   \n",
       "std        54.155987      45.389770      38.311336      19.968653   \n",
       "min      -506.000000    -613.000000    -702.000000    -526.000000   \n",
       "25%        95.000000    -103.000000    -190.000000    -103.000000   \n",
       "50%       107.000000     -90.000000    -168.000000     -91.000000   \n",
       "75%       120.000000     -80.000000    -153.000000     -80.000000   \n",
       "max       517.000000     410.000000     -13.000000      86.000000   \n",
       "\n",
       "                  z4  \n",
       "count  165632.000000  \n",
       "mean     -159.650985  \n",
       "std        13.221020  \n",
       "min      -537.000000  \n",
       "25%      -167.000000  \n",
       "50%      -160.000000  \n",
       "75%      -153.000000  \n",
       "max       -43.000000  "
      ]
     },
     "execution_count": 7,
     "metadata": {},
     "output_type": "execute_result"
    }
   ],
   "source": [
    "X.describe()"
   ]
  },
  {
   "cell_type": "code",
   "execution_count": 8,
   "metadata": {
    "collapsed": true
   },
   "outputs": [],
   "source": [
    "# split the datasets into training & testing data\n",
    "# random_state = 7 to ensure repeatable results; skiped in real cases\n",
    "X_train, X_test, Y_train, Y_test = train_test_split(X, Y, test_size = 0.3, random_state = 7)"
   ]
  },
  {
   "cell_type": "code",
   "execution_count": 9,
   "metadata": {},
   "outputs": [
    {
     "name": "stdout",
     "output_type": "stream",
     "text": [
      "training time:  11.425105094909668\n"
     ]
    }
   ],
   "source": [
    "# Random Forest classification\n",
    "rfc = RandomForestClassifier(n_estimators = 30, max_depth = 10, oob_score = True, random_state = 0)\n",
    "t0 = time.time()\n",
    "rfc.fit(X_train, Y_train)\n",
    "print('training time: ', time.time()-t0)"
   ]
  },
  {
   "cell_type": "code",
   "execution_count": 10,
   "metadata": {},
   "outputs": [
    {
     "name": "stdout",
     "output_type": "stream",
     "text": [
      "Out-of-Bag Score:  0.98744199686\n"
     ]
    }
   ],
   "source": [
    "print('Out-of-Bag Score: ', rfc.oob_score_)"
   ]
  },
  {
   "cell_type": "code",
   "execution_count": 11,
   "metadata": {},
   "outputs": [
    {
     "name": "stdout",
     "output_type": "stream",
     "text": [
      "scoring time:  0.766822099685669\n",
      "score:  0.956872610183\n"
     ]
    }
   ],
   "source": [
    "t0 = time.time()\n",
    "score = rfc.score(X_test, Y_test)\n",
    "print('scoring time: ', time.time()-t0)\n",
    "print('score: ', score)"
   ]
  },
  {
   "cell_type": "code",
   "execution_count": null,
   "metadata": {
    "collapsed": true
   },
   "outputs": [],
   "source": []
  }
 ],
 "metadata": {
  "kernelspec": {
   "display_name": "Python 3",
   "language": "python",
   "name": "python3"
  },
  "language_info": {
   "codemirror_mode": {
    "name": "ipython",
    "version": 3
   },
   "file_extension": ".py",
   "mimetype": "text/x-python",
   "name": "python",
   "nbconvert_exporter": "python",
   "pygments_lexer": "ipython3",
   "version": "3.6.0"
  }
 },
 "nbformat": 4,
 "nbformat_minor": 2
}
