{
 "cells": [
  {
   "cell_type": "code",
   "execution_count": 1,
   "metadata": {
    "collapsed": true
   },
   "outputs": [],
   "source": [
    "import pandas as pd"
   ]
  },
  {
   "cell_type": "code",
   "execution_count": 5,
   "metadata": {},
   "outputs": [
    {
     "name": "stdout",
     "output_type": "stream",
     "text": [
      "       col0      col1      col2      col3\n",
      "0 -0.722876 -1.330682  1.309208  0.232378\n",
      "1  1.160396 -0.730879  0.677368  1.044722\n",
      "2 -1.062870 -0.503704 -0.238536 -1.417937\n",
      "3  0.437078  0.362640 -0.111228 -1.649853\n"
     ]
    }
   ],
   "source": [
    "# load the 'tutorial.csv' dataset\n",
    "X = pd.read_csv('/Users/pinqingkan/OneDrive/JobSearch/DataScience/PythonDataScience/DAT210x-master/Module2/Datasets/tutorial.csv')\n",
    "print(X)"
   ]
  },
  {
   "cell_type": "code",
   "execution_count": 7,
   "metadata": {},
   "outputs": [
    {
     "name": "stdout",
     "output_type": "stream",
     "text": [
      "           col0      col1      col2      col3\n",
      "count  4.000000  4.000000  4.000000  4.000000\n",
      "mean  -0.047068 -0.550656  0.409203 -0.447672\n",
      "std    1.029715  0.701720  0.723956  1.300815\n",
      "min   -1.062870 -1.330682 -0.238536 -1.649853\n",
      "25%   -0.807875 -0.880830 -0.143055 -1.475916\n",
      "50%   -0.142899 -0.617291  0.283070 -0.592780\n",
      "75%    0.617907 -0.287118  0.835328  0.435464\n",
      "max    1.160396  0.362640  1.309208  1.044722\n"
     ]
    }
   ],
   "source": [
    "# print the results & use .describe()\n",
    "print(X.describe())"
   ]
  },
  {
   "cell_type": "code",
   "execution_count": 8,
   "metadata": {},
   "outputs": [
    {
     "data": {
      "text/plain": [
       "2   -1.417937\n",
       "3   -1.649853\n",
       "Name: col3, dtype: float64"
      ]
     },
     "execution_count": 8,
     "metadata": {},
     "output_type": "execute_result"
    }
   ],
   "source": [
    "# index with [2:4, 'col3']\n",
    "X.ix[2:4, 'col3']"
   ]
  },
  {
   "cell_type": "code",
   "execution_count": 10,
   "metadata": {},
   "outputs": [
    {
     "data": {
      "text/plain": [
       "2   -1.417937\n",
       "3   -1.649853\n",
       "Name: col3, dtype: float64"
      ]
     },
     "execution_count": 10,
     "metadata": {},
     "output_type": "execute_result"
    }
   ],
   "source": [
    "X.loc[2:4, 'col3']"
   ]
  },
  {
   "cell_type": "code",
   "execution_count": null,
   "metadata": {
    "collapsed": true
   },
   "outputs": [],
   "source": []
  }
 ],
 "metadata": {
  "kernelspec": {
   "display_name": "Python 3",
   "language": "python",
   "name": "python3"
  },
  "language_info": {
   "codemirror_mode": {
    "name": "ipython",
    "version": 3
   },
   "file_extension": ".py",
   "mimetype": "text/x-python",
   "name": "python",
   "nbconvert_exporter": "python",
   "pygments_lexer": "ipython3",
   "version": "3.6.0"
  }
 },
 "nbformat": 4,
 "nbformat_minor": 2
}
